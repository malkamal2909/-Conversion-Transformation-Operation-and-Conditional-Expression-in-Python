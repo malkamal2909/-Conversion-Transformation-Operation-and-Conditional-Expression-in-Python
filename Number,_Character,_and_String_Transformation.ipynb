{
  "nbformat": 4,
  "nbformat_minor": 0,
  "metadata": {
    "colab": {
      "name": "Number, Character, and String Transformation.ipynb",
      "provenance": []
    },
    "kernelspec": {
      "name": "python3",
      "display_name": "Python 3"
    },
    "language_info": {
      "name": "python"
    }
  },
  "cells": [
    {
      "cell_type": "markdown",
      "source": [
        "# **Changing uppercase and lowercase**\n",
        "\n",
        "## upper()\n",
        "* #### The upper() method can be used to convert a character or string from lowercase to uppercase.\n",
        "* #### However, if the original letter is uppercase, then the letter is not changed."
      ],
      "metadata": {
        "id": "sX6b1FUetII_"
      }
    },
    {
      "cell_type": "code",
      "source": [
        "namE = \"soe dal ni\""
      ],
      "metadata": {
        "id": "HzfDmeE7tX7C"
      },
      "execution_count": null,
      "outputs": []
    },
    {
      "cell_type": "code",
      "execution_count": null,
      "metadata": {
        "colab": {
          "base_uri": "https://localhost:8080/",
          "height": 36
        },
        "id": "08M20RP-s2eQ",
        "outputId": "722fee45-93f8-4555-b737-a4271b0bfc8f"
      },
      "outputs": [
        {
          "output_type": "execute_result",
          "data": {
            "text/plain": [
              "'SOE DAL NI'"
            ],
            "application/vnd.google.colaboratory.intrinsic+json": {
              "type": "string"
            }
          },
          "metadata": {},
          "execution_count": 2
        }
      ],
      "source": [
        "name.upper()"
      ]
    },
    {
      "cell_type": "markdown",
      "source": [
        "## lower()\n",
        "* #### lower() converts a character or string from uppercase to lowercase.\n",
        "* #### However, if the original letter is lowercase, then the letter does not change."
      ],
      "metadata": {
        "id": "S8-LDsJqtknZ"
      }
    },
    {
      "cell_type": "code",
      "source": [
        "name = \"SOE DAL MI\""
      ],
      "metadata": {
        "id": "izzw0kR6tttb"
      },
      "execution_count": null,
      "outputs": []
    },
    {
      "cell_type": "code",
      "source": [
        "name.lower()"
      ],
      "metadata": {
        "colab": {
          "base_uri": "https://localhost:8080/",
          "height": 36
        },
        "id": "c0z5nURvtxOg",
        "outputId": "d993104a-7c45-49ca-a54e-205a81dc323c"
      },
      "execution_count": null,
      "outputs": [
        {
          "output_type": "execute_result",
          "data": {
            "text/plain": [
              "'soe dal mi'"
            ],
            "application/vnd.google.colaboratory.intrinsic+json": {
              "type": "string"
            }
          },
          "metadata": {},
          "execution_count": 4
        }
      ]
    },
    {
      "cell_type": "markdown",
      "source": [
        "\n",
        "\n",
        "---\n",
        "* ### Both of these methods, both upper() and lower() are python's built-in methods that are used to handle string operations.\n",
        "* ### If there are non-letter characters (such as symbols or numbers) that do not have a capital option, they are not changed\n"
      ],
      "metadata": {
        "id": "FiMFfiGit03J"
      }
    },
    {
      "cell_type": "code",
      "source": [
        "name = \"kin tae ri - 1\""
      ],
      "metadata": {
        "id": "Y13TEZ4XuFS_"
      },
      "execution_count": null,
      "outputs": []
    },
    {
      "cell_type": "code",
      "source": [
        "name.upper()"
      ],
      "metadata": {
        "colab": {
          "base_uri": "https://localhost:8080/",
          "height": 36
        },
        "id": "nkqlFgakuJOI",
        "outputId": "2f7d8546-ad2b-4ed4-c4b8-c1a7b22f95b9"
      },
      "execution_count": null,
      "outputs": [
        {
          "output_type": "execute_result",
          "data": {
            "text/plain": [
              "'KIN TAE RI - 1'"
            ],
            "application/vnd.google.colaboratory.intrinsic+json": {
              "type": "string"
            }
          },
          "metadata": {},
          "execution_count": 8
        }
      ]
    },
    {
      "cell_type": "markdown",
      "source": [
        "\n",
        "\n",
        "---\n",
        "## Prefix and Suffix\n",
        "\n",
        "### rstrip()\n",
        "### rstrip() will remove the whitespace to the right of the string or the end of the string\n"
      ],
      "metadata": {
        "id": "KIp6YeQDuefA"
      }
    },
    {
      "cell_type": "code",
      "source": [
        "a = \"Data \""
      ],
      "metadata": {
        "id": "RRC-cOxyundJ"
      },
      "execution_count": null,
      "outputs": []
    },
    {
      "cell_type": "code",
      "source": [
        "a"
      ],
      "metadata": {
        "colab": {
          "base_uri": "https://localhost:8080/",
          "height": 36
        },
        "id": "03T4Uv5Eur7C",
        "outputId": "5879a633-ed6c-42f0-b007-500acdffe565"
      },
      "execution_count": null,
      "outputs": [
        {
          "output_type": "execute_result",
          "data": {
            "text/plain": [
              "'Data '"
            ],
            "application/vnd.google.colaboratory.intrinsic+json": {
              "type": "string"
            }
          },
          "metadata": {},
          "execution_count": 10
        }
      ]
    },
    {
      "cell_type": "code",
      "source": [
        "print(a)"
      ],
      "metadata": {
        "colab": {
          "base_uri": "https://localhost:8080/"
        },
        "id": "uTtBxdrPuu8w",
        "outputId": "e0f4e0d5-c508-458d-aaa2-c9a2b39c79f9"
      },
      "execution_count": null,
      "outputs": [
        {
          "output_type": "stream",
          "name": "stdout",
          "text": [
            "Data \n"
          ]
        }
      ]
    },
    {
      "cell_type": "code",
      "source": [
        "a.rstrip()"
      ],
      "metadata": {
        "colab": {
          "base_uri": "https://localhost:8080/",
          "height": 36
        },
        "id": "dPXd1NPLuxGl",
        "outputId": "1bfc37c6-ad76-45e5-a009-4fe2a925381d"
      },
      "execution_count": null,
      "outputs": [
        {
          "output_type": "execute_result",
          "data": {
            "text/plain": [
              "'Data'"
            ],
            "application/vnd.google.colaboratory.intrinsic+json": {
              "type": "string"
            }
          },
          "metadata": {},
          "execution_count": 12
        }
      ]
    },
    {
      "cell_type": "code",
      "source": [
        "print(a.rstrip())"
      ],
      "metadata": {
        "colab": {
          "base_uri": "https://localhost:8080/"
        },
        "id": "IAY3N7QOu1vW",
        "outputId": "3d8ee407-434a-446d-e170-83cacf4b9d3b"
      },
      "execution_count": null,
      "outputs": [
        {
          "output_type": "stream",
          "name": "stdout",
          "text": [
            "Data\n"
          ]
        }
      ]
    },
    {
      "cell_type": "markdown",
      "source": [
        "\n",
        "\n",
        "---\n",
        "\n",
        "## lstrip()\n",
        "### lstrip() is used to remove whitespace to the left or the beginning of the string"
      ],
      "metadata": {
        "id": "2uC-QIpvvAIm"
      }
    },
    {
      "cell_type": "code",
      "source": [
        "a = \" Data\""
      ],
      "metadata": {
        "id": "T1vbmCubvF_x"
      },
      "execution_count": null,
      "outputs": []
    },
    {
      "cell_type": "code",
      "source": [
        "a"
      ],
      "metadata": {
        "colab": {
          "base_uri": "https://localhost:8080/",
          "height": 36
        },
        "id": "gvybNEOlvHzI",
        "outputId": "d4799b5b-1ddf-4feb-f7a9-b7ce702057a6"
      },
      "execution_count": null,
      "outputs": [
        {
          "output_type": "execute_result",
          "data": {
            "text/plain": [
              "' Data'"
            ],
            "application/vnd.google.colaboratory.intrinsic+json": {
              "type": "string"
            }
          },
          "metadata": {},
          "execution_count": 15
        }
      ]
    },
    {
      "cell_type": "code",
      "source": [
        "a.lstrip()"
      ],
      "metadata": {
        "colab": {
          "base_uri": "https://localhost:8080/",
          "height": 36
        },
        "id": "t-2rLd1RvIg-",
        "outputId": "e7dc8047-b05e-4c67-a62d-be632c68dc5e"
      },
      "execution_count": null,
      "outputs": [
        {
          "output_type": "execute_result",
          "data": {
            "text/plain": [
              "'Data'"
            ],
            "application/vnd.google.colaboratory.intrinsic+json": {
              "type": "string"
            }
          },
          "metadata": {},
          "execution_count": 16
        }
      ]
    },
    {
      "cell_type": "code",
      "source": [
        "print(a.lstrip())"
      ],
      "metadata": {
        "colab": {
          "base_uri": "https://localhost:8080/"
        },
        "id": "TWWYW0OGvMyC",
        "outputId": "3ea27eb0-c44e-4e39-91cd-72b57366bf31"
      },
      "execution_count": null,
      "outputs": [
        {
          "output_type": "stream",
          "name": "stdout",
          "text": [
            "Data\n"
          ]
        }
      ]
    },
    {
      "cell_type": "markdown",
      "source": [
        "\n",
        "\n",
        "---\n",
        "## strip()\n",
        "\n",
        "### Strip() will remove whitespace at the beginning and end of the string\n"
      ],
      "metadata": {
        "id": "b4emVsGtvaOh"
      }
    },
    {
      "cell_type": "code",
      "source": [
        "a = \" Data \""
      ],
      "metadata": {
        "id": "GbQKop49vf9j"
      },
      "execution_count": null,
      "outputs": []
    },
    {
      "cell_type": "code",
      "source": [
        "a"
      ],
      "metadata": {
        "colab": {
          "base_uri": "https://localhost:8080/",
          "height": 36
        },
        "id": "ncxYKhcYvkRs",
        "outputId": "0d62d0cf-edd2-4dd7-abba-d207a7338797"
      },
      "execution_count": null,
      "outputs": [
        {
          "output_type": "execute_result",
          "data": {
            "text/plain": [
              "' Data '"
            ],
            "application/vnd.google.colaboratory.intrinsic+json": {
              "type": "string"
            }
          },
          "metadata": {},
          "execution_count": 19
        }
      ]
    },
    {
      "cell_type": "code",
      "source": [
        "a.strip()"
      ],
      "metadata": {
        "colab": {
          "base_uri": "https://localhost:8080/",
          "height": 36
        },
        "id": "CwVLLpTpvlb7",
        "outputId": "222bd115-edeb-4e6c-fb47-de80edd59330"
      },
      "execution_count": null,
      "outputs": [
        {
          "output_type": "execute_result",
          "data": {
            "text/plain": [
              "'Data'"
            ],
            "application/vnd.google.colaboratory.intrinsic+json": {
              "type": "string"
            }
          },
          "metadata": {},
          "execution_count": 20
        }
      ]
    },
    {
      "cell_type": "markdown",
      "source": [
        "\n",
        "\n",
        "---\n",
        "strip() juga bisa menentukan mana karakter atau bagian yang ingin dihilangkan\n"
      ],
      "metadata": {
        "id": "okpUkui2vqM3"
      }
    },
    {
      "cell_type": "code",
      "source": [
        "a = \"DataScienceData\""
      ],
      "metadata": {
        "id": "NnUVvfddvvhW"
      },
      "execution_count": null,
      "outputs": []
    },
    {
      "cell_type": "code",
      "source": [
        "a"
      ],
      "metadata": {
        "colab": {
          "base_uri": "https://localhost:8080/",
          "height": 36
        },
        "id": "LrujXdBfvz9p",
        "outputId": "4902b7c5-16fa-4b57-937b-4b2b46b2e414"
      },
      "execution_count": null,
      "outputs": [
        {
          "output_type": "execute_result",
          "data": {
            "text/plain": [
              "'DataScienceData'"
            ],
            "application/vnd.google.colaboratory.intrinsic+json": {
              "type": "string"
            }
          },
          "metadata": {},
          "execution_count": 22
        }
      ]
    },
    {
      "cell_type": "code",
      "source": [
        "a.strip(\"Data\")"
      ],
      "metadata": {
        "colab": {
          "base_uri": "https://localhost:8080/",
          "height": 36
        },
        "id": "s7vBuTYuv1Va",
        "outputId": "1d785d61-d512-4486-8608-ee7cca79660a"
      },
      "execution_count": null,
      "outputs": [
        {
          "output_type": "execute_result",
          "data": {
            "text/plain": [
              "'Science'"
            ],
            "application/vnd.google.colaboratory.intrinsic+json": {
              "type": "string"
            }
          },
          "metadata": {},
          "execution_count": 23
        }
      ]
    },
    {
      "cell_type": "markdown",
      "source": [
        "## stratswith()\n",
        "\n",
        "### **Metode** startwith() akan mengembalikan nilai True jika string diawali dengan kata awalan tertentu yang kita inginkan, jika tidak maka akan mengembalikan nilai False\n",
        "\n",
        "\n",
        "---\n",
        "\n"
      ],
      "metadata": {
        "id": "d6H8LapGReuj"
      }
    },
    {
      "cell_type": "code",
      "source": [
        "a = \"Data Science\""
      ],
      "metadata": {
        "id": "YD_eq0_RRgJq"
      },
      "execution_count": 1,
      "outputs": []
    },
    {
      "cell_type": "code",
      "source": [
        "a.startswith(\"Science\")"
      ],
      "metadata": {
        "colab": {
          "base_uri": "https://localhost:8080/"
        },
        "id": "03F6Q5MLRj2l",
        "outputId": "823c624a-27ff-476a-c404-e24ffcea8f08"
      },
      "execution_count": 2,
      "outputs": [
        {
          "output_type": "execute_result",
          "data": {
            "text/plain": [
              "False"
            ]
          },
          "metadata": {},
          "execution_count": 2
        }
      ]
    },
    {
      "cell_type": "code",
      "source": [
        "b = \"Data Science Track\""
      ],
      "metadata": {
        "id": "bi2K5S-PRlys"
      },
      "execution_count": 3,
      "outputs": []
    },
    {
      "cell_type": "code",
      "source": [
        "b.startswith(\"Data\")"
      ],
      "metadata": {
        "colab": {
          "base_uri": "https://localhost:8080/"
        },
        "id": "iIyC7kh2RoLE",
        "outputId": "0774d0c0-ede7-4383-c128-d2e6050f7ae8"
      },
      "execution_count": 4,
      "outputs": [
        {
          "output_type": "execute_result",
          "data": {
            "text/plain": [
              "True"
            ]
          },
          "metadata": {},
          "execution_count": 4
        }
      ]
    },
    {
      "cell_type": "code",
      "source": [
        "c = \"Data Science Track\""
      ],
      "metadata": {
        "id": "o4czOBTyRqJa"
      },
      "execution_count": 5,
      "outputs": []
    },
    {
      "cell_type": "code",
      "source": [
        "c.startswith(\"Data Science\")"
      ],
      "metadata": {
        "colab": {
          "base_uri": "https://localhost:8080/"
        },
        "id": "tA2RuK7SRseq",
        "outputId": "2ee54d50-e018-47ff-b58a-5187f11b0582"
      },
      "execution_count": 6,
      "outputs": [
        {
          "output_type": "execute_result",
          "data": {
            "text/plain": [
              "True"
            ]
          },
          "metadata": {},
          "execution_count": 6
        }
      ]
    },
    {
      "cell_type": "code",
      "source": [
        "d = \"Data Science Track\""
      ],
      "metadata": {
        "id": "Fetx6tmDRuIC"
      },
      "execution_count": 7,
      "outputs": []
    },
    {
      "cell_type": "code",
      "source": [
        "d.startswith(\"Track\")"
      ],
      "metadata": {
        "colab": {
          "base_uri": "https://localhost:8080/"
        },
        "id": "-ctrHPADRwEa",
        "outputId": "13268bd8-2a09-4232-fa73-e1d4c3c34d04"
      },
      "execution_count": 8,
      "outputs": [
        {
          "output_type": "execute_result",
          "data": {
            "text/plain": [
              "False"
            ]
          },
          "metadata": {},
          "execution_count": 8
        }
      ]
    },
    {
      "cell_type": "markdown",
      "source": [
        "\n",
        "\n",
        "---\n",
        "## endswith()\n",
        "\n",
        "### The endswith() method is the opposite of the startswith() method, this method will return True if the string ends with the specified suffix we want, otherwise it will return False\n",
        "\n",
        "\n",
        "---\n",
        "\n"
      ],
      "metadata": {
        "id": "cdiRhT-HRy3K"
      }
    },
    {
      "cell_type": "code",
      "source": [
        "a = \"Data Science\""
      ],
      "metadata": {
        "id": "uYpVga2sRxuz"
      },
      "execution_count": 9,
      "outputs": []
    },
    {
      "cell_type": "code",
      "source": [
        "a.endswith(\"Science\")"
      ],
      "metadata": {
        "colab": {
          "base_uri": "https://localhost:8080/"
        },
        "id": "Y7uCuZgmR37y",
        "outputId": "284d085f-450b-4434-93f1-735082542980"
      },
      "execution_count": 10,
      "outputs": [
        {
          "output_type": "execute_result",
          "data": {
            "text/plain": [
              "True"
            ]
          },
          "metadata": {},
          "execution_count": 10
        }
      ]
    },
    {
      "cell_type": "markdown",
      "source": [
        "\n",
        "\n",
        "---\n",
        "\n",
        "## **Exercise 1**\n",
        "\n",
        "\n",
        "---\n",
        "\n",
        "\n",
        "### Make 4 free words, but the parameter must have (one) word\"Engineer\".\n",
        "\n",
        "- ### startswith\n",
        "- ### endswith\n",
        "- ### count the length using len()"
      ],
      "metadata": {
        "id": "R-x0HEAiR8PM"
      }
    },
    {
      "cell_type": "code",
      "source": [
        "f = \"Data Engineer Mining Raw Data\""
      ],
      "metadata": {
        "id": "vATi5PybR5pn"
      },
      "execution_count": 11,
      "outputs": []
    },
    {
      "cell_type": "code",
      "source": [
        "f.startswith(\"Data Engineer\")"
      ],
      "metadata": {
        "colab": {
          "base_uri": "https://localhost:8080/"
        },
        "id": "WPkfX67nR_wA",
        "outputId": "ec21d93d-8bd0-4655-a1db-9e784ffec890"
      },
      "execution_count": 12,
      "outputs": [
        {
          "output_type": "execute_result",
          "data": {
            "text/plain": [
              "True"
            ]
          },
          "metadata": {},
          "execution_count": 12
        }
      ]
    },
    {
      "cell_type": "code",
      "source": [
        "f.startswith(\"Data\")"
      ],
      "metadata": {
        "colab": {
          "base_uri": "https://localhost:8080/"
        },
        "id": "1to16Vp_SBUy",
        "outputId": "15622c1e-7d31-4ffc-8a1d-496ba5c18dfd"
      },
      "execution_count": 13,
      "outputs": [
        {
          "output_type": "execute_result",
          "data": {
            "text/plain": [
              "True"
            ]
          },
          "metadata": {},
          "execution_count": 13
        }
      ]
    },
    {
      "cell_type": "code",
      "source": [
        "g = \"Microsoft Certification of Data Engineer\""
      ],
      "metadata": {
        "id": "Oy9364YsSC4g"
      },
      "execution_count": 14,
      "outputs": []
    },
    {
      "cell_type": "code",
      "source": [
        "f.endswith(\"Engineer\")"
      ],
      "metadata": {
        "colab": {
          "base_uri": "https://localhost:8080/"
        },
        "id": "Vky_bQ5MSEnc",
        "outputId": "e6cd2caf-4774-43d9-d51a-5905f2cc3fda"
      },
      "execution_count": 15,
      "outputs": [
        {
          "output_type": "execute_result",
          "data": {
            "text/plain": [
              "False"
            ]
          },
          "metadata": {},
          "execution_count": 15
        }
      ]
    },
    {
      "cell_type": "code",
      "source": [
        "len(f)"
      ],
      "metadata": {
        "colab": {
          "base_uri": "https://localhost:8080/"
        },
        "id": "aLlYN41mSHSH",
        "outputId": "eaba10a2-7177-449c-c846-051248db193c"
      },
      "execution_count": 16,
      "outputs": [
        {
          "output_type": "execute_result",
          "data": {
            "text/plain": [
              "29"
            ]
          },
          "metadata": {},
          "execution_count": 16
        }
      ]
    },
    {
      "cell_type": "code",
      "source": [
        "len(g)"
      ],
      "metadata": {
        "id": "9XjDbShASNnA",
        "outputId": "7722f16f-6c23-4a0b-8b4e-adfe57c0741d",
        "colab": {
          "base_uri": "https://localhost:8080/"
        }
      },
      "execution_count": 17,
      "outputs": [
        {
          "output_type": "execute_result",
          "data": {
            "text/plain": [
              "40"
            ]
          },
          "metadata": {},
          "execution_count": 17
        }
      ]
    }
  ]
}