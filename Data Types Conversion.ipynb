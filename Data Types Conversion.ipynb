{
  "nbformat": 4,
  "nbformat_minor": 0,
  "metadata": {
    "colab": {
      "name": "Data Types Conversion.ipynb",
      "provenance": [],
      "collapsed_sections": []
    },
    "kernelspec": {
      "name": "python3",
      "display_name": "Python 3"
    },
    "language_info": {
      "name": "python"
    }
  },
  "cells": [
    {
      "cell_type": "markdown",
      "source": [
        "---\n",
        "# **Conversion Between Data Types**\n",
        "---\n",
        "\n",
        "## We can convert the default data types by using the standard type conversion function, for example: \n",
        "* ## float()\n",
        "* ## int()\n",
        "* ## str()"
      ],
      "metadata": {
        "id": "kFDHii6vM0a4"
      }
    },
    {
      "cell_type": "markdown",
      "source": [
        "---\n",
        "## **float()**\n",
        "---\n",
        "\n",
        "### *Convert to float*"
      ],
      "metadata": {
        "id": "hFuoWhhVHIlr"
      }
    },
    {
      "cell_type": "code",
      "execution_count": null,
      "metadata": {
        "colab": {
          "base_uri": "https://localhost:8080/"
        },
        "id": "qFswjaYpMsPl",
        "outputId": "3dfb6726-6cc0-41ec-9b3c-bccb5bc64236"
      },
      "outputs": [
        {
          "output_type": "execute_result",
          "data": {
            "text/plain": [
              "3"
            ]
          },
          "metadata": {},
          "execution_count": 1
        }
      ],
      "source": [
        "# Input an integer number\n",
        "\n",
        "3"
      ]
    },
    {
      "cell_type": "code",
      "source": [
        "# Check the data type\n",
        "\n",
        "type(3)"
      ],
      "metadata": {
        "colab": {
          "base_uri": "https://localhost:8080/"
        },
        "id": "gFYri7BPNf9u",
        "outputId": "f56bd429-05a5-463a-a4aa-824b283de93b"
      },
      "execution_count": null,
      "outputs": [
        {
          "output_type": "execute_result",
          "data": {
            "text/plain": [
              "int"
            ]
          },
          "metadata": {},
          "execution_count": 2
        }
      ]
    },
    {
      "cell_type": "code",
      "source": [
        "# Convert integer to float\n",
        "\n",
        "float(3)"
      ],
      "metadata": {
        "colab": {
          "base_uri": "https://localhost:8080/"
        },
        "id": "-bin5P85Nhf_",
        "outputId": "d5776c89-bdbf-4fd7-b03f-15bf377bcea5"
      },
      "execution_count": null,
      "outputs": [
        {
          "output_type": "execute_result",
          "data": {
            "text/plain": [
              "3.0"
            ]
          },
          "metadata": {},
          "execution_count": 3
        }
      ]
    },
    {
      "cell_type": "code",
      "source": [
        "# Print the data type for integer to float conversion\n",
        "\n",
        "print(type(float(3)))"
      ],
      "metadata": {
        "colab": {
          "base_uri": "https://localhost:8080/"
        },
        "id": "UnM-M_yANk2-",
        "outputId": "d96c6fcd-8385-4c31-e350-d204faebe13f"
      },
      "execution_count": null,
      "outputs": [
        {
          "output_type": "stream",
          "name": "stdout",
          "text": [
            "<class 'float'>\n"
          ]
        }
      ]
    },
    {
      "cell_type": "markdown",
      "source": [
        "---\n",
        "## **int()**\n",
        "---\n",
        "\n",
        "### *Convert to Integer*\n",
        "\n"
      ],
      "metadata": {
        "id": "PR6zxQ2_IBE1"
      }
    },
    {
      "cell_type": "code",
      "source": [
        "# Input a float number\n",
        "\n",
        "1.5"
      ],
      "metadata": {
        "id": "4YelwhX-IK9-"
      },
      "execution_count": null,
      "outputs": []
    },
    {
      "cell_type": "code",
      "source": [
        "# Check the data type\n",
        "\n",
        "type(1.5)"
      ],
      "metadata": {
        "colab": {
          "base_uri": "https://localhost:8080/"
        },
        "id": "aIQo0qa2IhQk",
        "outputId": "bb5489d5-c76a-40b5-fd49-e4ac482af0c2"
      },
      "execution_count": null,
      "outputs": [
        {
          "output_type": "execute_result",
          "data": {
            "text/plain": [
              "float"
            ]
          },
          "metadata": {},
          "execution_count": 8
        }
      ]
    },
    {
      "cell_type": "code",
      "source": [
        "# Convert float to integer \n",
        "# (Converting float to int will be floor/truncating or omitting the value after the comma)\n",
        "\n",
        "int(1.5)"
      ],
      "metadata": {
        "colab": {
          "base_uri": "https://localhost:8080/"
        },
        "id": "-q0EZ0_3Il6g",
        "outputId": "af65a3cf-8dc0-4e16-bcd9-d6ecf9f93a11"
      },
      "execution_count": null,
      "outputs": [
        {
          "output_type": "execute_result",
          "data": {
            "text/plain": [
              "1"
            ]
          },
          "metadata": {},
          "execution_count": 9
        }
      ]
    },
    {
      "cell_type": "code",
      "source": [
        "# Print the data type for float to integer conversion \n",
        "\n",
        "print(type(int(1.5)))"
      ],
      "metadata": {
        "colab": {
          "base_uri": "https://localhost:8080/"
        },
        "id": "WAlnqGxLI79v",
        "outputId": "ef39f4b9-466e-4b57-8b59-01f45bc1a959"
      },
      "execution_count": null,
      "outputs": [
        {
          "output_type": "stream",
          "name": "stdout",
          "text": [
            "<class 'int'>\n"
          ]
        }
      ]
    },
    {
      "cell_type": "markdown",
      "source": [
        "---\n",
        "## **Exercise 1**\n",
        "---\n",
        "\n",
        "### Convert the following numbers to integers!\n",
        "\n",
        "* ### 1.5\n",
        "* ### 2.3\n",
        "* ### 5.8\n",
        "\n",
        "### Convert the following numbers to floats!\n",
        "\n",
        "* ### 3\n",
        "* ### 20\n",
        "* ### 36\n"
      ],
      "metadata": {
        "id": "_1MWBUZdOCuo"
      }
    },
    {
      "cell_type": "markdown",
      "source": [
        "---\n",
        "## **Answer :**\n",
        "---\n",
        "\n",
        "\n"
      ],
      "metadata": {
        "id": "4qZvNAEqL7Db"
      }
    },
    {
      "cell_type": "markdown",
      "source": [
        "\n",
        "### **Convert the following numbers to integers!**\n",
        "\n",
        "\n"
      ],
      "metadata": {
        "id": "teT6QSKzO5wN"
      }
    },
    {
      "cell_type": "markdown",
      "source": [
        "---\n",
        "\n",
        "* ### 1.5\n",
        "\n",
        "---\n",
        "\n"
      ],
      "metadata": {
        "id": "OGVXOo6mMhWF"
      }
    },
    {
      "cell_type": "code",
      "source": [
        "# Input the number 1.5\n",
        "\n",
        "1.5"
      ],
      "metadata": {
        "colab": {
          "base_uri": "https://localhost:8080/"
        },
        "id": "RJkMiFlSOXbM",
        "outputId": "070712bc-1a70-4273-c07b-eceef06cbf9e"
      },
      "execution_count": 13,
      "outputs": [
        {
          "output_type": "execute_result",
          "data": {
            "text/plain": [
              "1.5"
            ]
          },
          "metadata": {},
          "execution_count": 13
        }
      ]
    },
    {
      "cell_type": "code",
      "source": [
        "# Check the data type\n",
        "\n",
        "type(1.5)"
      ],
      "metadata": {
        "colab": {
          "base_uri": "https://localhost:8080/"
        },
        "id": "ooYbvqk5Oef5",
        "outputId": "e6881971-f14e-499e-8421-c03b0b77b073"
      },
      "execution_count": 14,
      "outputs": [
        {
          "output_type": "execute_result",
          "data": {
            "text/plain": [
              "float"
            ]
          },
          "metadata": {},
          "execution_count": 14
        }
      ]
    },
    {
      "cell_type": "code",
      "source": [
        "# Convert to integer\n",
        "\n",
        "int(1.5)"
      ],
      "metadata": {
        "colab": {
          "base_uri": "https://localhost:8080/"
        },
        "id": "IRXmDVaeOgES",
        "outputId": "6ee52895-a01f-46f6-9eee-669152217073"
      },
      "execution_count": 15,
      "outputs": [
        {
          "output_type": "execute_result",
          "data": {
            "text/plain": [
              "1"
            ]
          },
          "metadata": {},
          "execution_count": 15
        }
      ]
    },
    {
      "cell_type": "code",
      "source": [
        "# Print the data type for float to integer conversion\n",
        "\n",
        "print(type(int(1.5)))"
      ],
      "metadata": {
        "colab": {
          "base_uri": "https://localhost:8080/"
        },
        "id": "4-n0jIrlOhcp",
        "outputId": "0272a65a-cce5-4869-c248-ef002ceabd4e"
      },
      "execution_count": 16,
      "outputs": [
        {
          "output_type": "stream",
          "name": "stdout",
          "text": [
            "<class 'int'>\n"
          ]
        }
      ]
    },
    {
      "cell_type": "markdown",
      "source": [
        "---\n",
        "* ### 2.3\n",
        "---\n",
        "\n"
      ],
      "metadata": {
        "id": "IWmVQZDuNRfw"
      }
    },
    {
      "cell_type": "code",
      "source": [
        "# Input the number 2.3\n",
        "\n",
        "2.3"
      ],
      "metadata": {
        "colab": {
          "base_uri": "https://localhost:8080/"
        },
        "id": "exz-RmuCOl9s",
        "outputId": "b30d7a49-2143-4e81-c780-f59691cb9eca"
      },
      "execution_count": 18,
      "outputs": [
        {
          "output_type": "execute_result",
          "data": {
            "text/plain": [
              "2.3"
            ]
          },
          "metadata": {},
          "execution_count": 18
        }
      ]
    },
    {
      "cell_type": "code",
      "source": [
        "# Check the data type\n",
        "\n",
        "type(2.3)"
      ],
      "metadata": {
        "colab": {
          "base_uri": "https://localhost:8080/"
        },
        "id": "Z15X_U_XOnK5",
        "outputId": "367c5f90-c455-457f-ff2e-af6222f2d2af"
      },
      "execution_count": 19,
      "outputs": [
        {
          "output_type": "execute_result",
          "data": {
            "text/plain": [
              "float"
            ]
          },
          "metadata": {},
          "execution_count": 19
        }
      ]
    },
    {
      "cell_type": "code",
      "source": [
        "# Convert to integer\n",
        "\n",
        "int(2.3)"
      ],
      "metadata": {
        "colab": {
          "base_uri": "https://localhost:8080/"
        },
        "id": "Vet8365IOpoo",
        "outputId": "618e4d61-6ff6-4d1b-eadc-e8677cd8ac62"
      },
      "execution_count": 20,
      "outputs": [
        {
          "output_type": "execute_result",
          "data": {
            "text/plain": [
              "2"
            ]
          },
          "metadata": {},
          "execution_count": 20
        }
      ]
    },
    {
      "cell_type": "code",
      "source": [
        "# Check the data type for float to integer conversion\n",
        "\n",
        "type(int(2.3))"
      ],
      "metadata": {
        "colab": {
          "base_uri": "https://localhost:8080/"
        },
        "id": "TUzEMvMLOrDj",
        "outputId": "8c87a1e4-d300-4544-c60f-134a4b5ef3d3"
      },
      "execution_count": 21,
      "outputs": [
        {
          "output_type": "execute_result",
          "data": {
            "text/plain": [
              "int"
            ]
          },
          "metadata": {},
          "execution_count": 21
        }
      ]
    },
    {
      "cell_type": "markdown",
      "source": [
        "---\n",
        "* ### 5.3\n",
        "---\n",
        "\n",
        "\n"
      ],
      "metadata": {
        "id": "xlv_4MUvOQLw"
      }
    },
    {
      "cell_type": "code",
      "source": [
        "# Input the number 5.8\n",
        "\n",
        "5.8"
      ],
      "metadata": {
        "colab": {
          "base_uri": "https://localhost:8080/"
        },
        "id": "HDLa1gocOxp6",
        "outputId": "8fb3069e-bc54-4d2c-ecbd-c0c0a5e8f3db"
      },
      "execution_count": 22,
      "outputs": [
        {
          "output_type": "execute_result",
          "data": {
            "text/plain": [
              "5.8"
            ]
          },
          "metadata": {},
          "execution_count": 22
        }
      ]
    },
    {
      "cell_type": "code",
      "source": [
        "# Check the data type\n",
        "\n",
        "type(5.8)"
      ],
      "metadata": {
        "colab": {
          "base_uri": "https://localhost:8080/"
        },
        "id": "b0swFtTbO0Nr",
        "outputId": "14479698-fd67-42d1-fd3a-df824dfd6685"
      },
      "execution_count": 23,
      "outputs": [
        {
          "output_type": "execute_result",
          "data": {
            "text/plain": [
              "float"
            ]
          },
          "metadata": {},
          "execution_count": 23
        }
      ]
    },
    {
      "cell_type": "code",
      "source": [
        "# Convert to integer\n",
        "\n",
        "int(5.8)"
      ],
      "metadata": {
        "colab": {
          "base_uri": "https://localhost:8080/"
        },
        "id": "kaidSGhrO13a",
        "outputId": "3da8d576-ea72-4519-93c9-bcfa7d2aff50"
      },
      "execution_count": 25,
      "outputs": [
        {
          "output_type": "execute_result",
          "data": {
            "text/plain": [
              "5"
            ]
          },
          "metadata": {},
          "execution_count": 25
        }
      ]
    },
    {
      "cell_type": "code",
      "source": [
        "# Check the data type for float to integer conversion\n",
        "\n",
        "type(int(5.8))"
      ],
      "metadata": {
        "colab": {
          "base_uri": "https://localhost:8080/"
        },
        "id": "mRqjv6P4O4Gr",
        "outputId": "f871a06d-9cb6-4c34-aab0-c6c29ba2cda1"
      },
      "execution_count": 26,
      "outputs": [
        {
          "output_type": "execute_result",
          "data": {
            "text/plain": [
              "int"
            ]
          },
          "metadata": {},
          "execution_count": 26
        }
      ]
    },
    {
      "cell_type": "markdown",
      "source": [
        "### **Convert the following numbers to floats!**\n",
        "\n",
        "\n",
        "\n",
        "\n",
        "\n"
      ],
      "metadata": {
        "id": "YvxRzGKfPZtC"
      }
    },
    {
      "cell_type": "markdown",
      "source": [
        "\n",
        "\n",
        "---\n",
        "* ### 3\n",
        "\n",
        "\n",
        "---\n",
        "\n",
        "\n"
      ],
      "metadata": {
        "id": "IO-lkio_P5dE"
      }
    },
    {
      "cell_type": "code",
      "source": [
        "# Input the number 3 \n",
        "\n",
        "3\n"
      ],
      "metadata": {
        "colab": {
          "base_uri": "https://localhost:8080/"
        },
        "id": "pNoUYcZzO6KF",
        "outputId": "c1171838-ecd3-4e86-adf5-5a2dc205eadb"
      },
      "execution_count": 27,
      "outputs": [
        {
          "output_type": "execute_result",
          "data": {
            "text/plain": [
              "3"
            ]
          },
          "metadata": {},
          "execution_count": 27
        }
      ]
    },
    {
      "cell_type": "code",
      "source": [
        "# Check the data type\n",
        "\n",
        "type(3)"
      ],
      "metadata": {
        "colab": {
          "base_uri": "https://localhost:8080/"
        },
        "id": "47X_zaibO7lU",
        "outputId": "932a7817-7b6a-45d4-86d0-418414f0e833"
      },
      "execution_count": 28,
      "outputs": [
        {
          "output_type": "execute_result",
          "data": {
            "text/plain": [
              "int"
            ]
          },
          "metadata": {},
          "execution_count": 28
        }
      ]
    },
    {
      "cell_type": "code",
      "source": [
        "# Convert to float\n",
        "\n",
        "float(3)"
      ],
      "metadata": {
        "colab": {
          "base_uri": "https://localhost:8080/"
        },
        "id": "8DKLWYgcO9Mf",
        "outputId": "80e94ef3-e623-4d2f-fb2e-cc6878cb96dd"
      },
      "execution_count": 29,
      "outputs": [
        {
          "output_type": "execute_result",
          "data": {
            "text/plain": [
              "3.0"
            ]
          },
          "metadata": {},
          "execution_count": 29
        }
      ]
    },
    {
      "cell_type": "code",
      "source": [
        "# Check the data type for integer to float conversion\n",
        "\n",
        "type(float(3))"
      ],
      "metadata": {
        "colab": {
          "base_uri": "https://localhost:8080/"
        },
        "id": "_z1VDLtEPACC",
        "outputId": "6687a2a9-766b-440f-c415-5c8df33bfc7c"
      },
      "execution_count": 30,
      "outputs": [
        {
          "output_type": "execute_result",
          "data": {
            "text/plain": [
              "float"
            ]
          },
          "metadata": {},
          "execution_count": 30
        }
      ]
    },
    {
      "cell_type": "markdown",
      "source": [
        "\n",
        "\n",
        "---\n",
        "\n",
        "* ### 20\n",
        "\n",
        "\n",
        "---\n",
        "\n"
      ],
      "metadata": {
        "id": "BsFBjpKSQWQC"
      }
    },
    {
      "cell_type": "code",
      "source": [
        "# Input the number 20\n",
        "\n",
        "20"
      ],
      "metadata": {
        "colab": {
          "base_uri": "https://localhost:8080/"
        },
        "id": "eCfPBn8wPCSx",
        "outputId": "221248fd-f1a2-469f-b006-8c93f57f317c"
      },
      "execution_count": 31,
      "outputs": [
        {
          "output_type": "execute_result",
          "data": {
            "text/plain": [
              "20"
            ]
          },
          "metadata": {},
          "execution_count": 31
        }
      ]
    },
    {
      "cell_type": "code",
      "source": [
        "# Check the data type\n",
        "\n",
        "type(20)"
      ],
      "metadata": {
        "colab": {
          "base_uri": "https://localhost:8080/"
        },
        "id": "s-YhGszyPDwF",
        "outputId": "f9e35afc-db8e-443b-9f27-c02336723815"
      },
      "execution_count": 32,
      "outputs": [
        {
          "output_type": "execute_result",
          "data": {
            "text/plain": [
              "int"
            ]
          },
          "metadata": {},
          "execution_count": 32
        }
      ]
    },
    {
      "cell_type": "code",
      "source": [
        "# Convert to float \n",
        "\n",
        "float(20)"
      ],
      "metadata": {
        "colab": {
          "base_uri": "https://localhost:8080/"
        },
        "id": "1jdx-EmWPGMj",
        "outputId": "207bfb09-3396-4b82-aa01-bd94c479c3d4"
      },
      "execution_count": 33,
      "outputs": [
        {
          "output_type": "execute_result",
          "data": {
            "text/plain": [
              "20.0"
            ]
          },
          "metadata": {},
          "execution_count": 33
        }
      ]
    },
    {
      "cell_type": "code",
      "source": [
        "# Check the data type for integer to float conversion \n",
        "\n",
        "type(float(20))"
      ],
      "metadata": {
        "colab": {
          "base_uri": "https://localhost:8080/"
        },
        "id": "wgd8Ad2NPIDB",
        "outputId": "5feffa1d-581c-4fdf-ba3b-1dfffd27a387"
      },
      "execution_count": 34,
      "outputs": [
        {
          "output_type": "execute_result",
          "data": {
            "text/plain": [
              "float"
            ]
          },
          "metadata": {},
          "execution_count": 34
        }
      ]
    },
    {
      "cell_type": "markdown",
      "source": [
        "\n",
        "\n",
        "---\n",
        "\n",
        "* ### 36\n",
        "\n",
        "\n",
        "---\n",
        "\n"
      ],
      "metadata": {
        "id": "aml1Wof0Q5CR"
      }
    },
    {
      "cell_type": "code",
      "source": [
        "# Input the number 36\n",
        "\n",
        "36"
      ],
      "metadata": {
        "colab": {
          "base_uri": "https://localhost:8080/"
        },
        "id": "fd5Pj8CSPJ1D",
        "outputId": "e229ddeb-a923-432b-d3c3-e29ee75d3a6b"
      },
      "execution_count": 35,
      "outputs": [
        {
          "output_type": "execute_result",
          "data": {
            "text/plain": [
              "36"
            ]
          },
          "metadata": {},
          "execution_count": 35
        }
      ]
    },
    {
      "cell_type": "code",
      "source": [
        "# Check the data type\n",
        "\n",
        "type(36)"
      ],
      "metadata": {
        "colab": {
          "base_uri": "https://localhost:8080/"
        },
        "id": "3dsFfzvxPKrY",
        "outputId": "95a360f4-24ab-45ab-86d3-aceb98ea8eab"
      },
      "execution_count": 36,
      "outputs": [
        {
          "output_type": "execute_result",
          "data": {
            "text/plain": [
              "int"
            ]
          },
          "metadata": {},
          "execution_count": 36
        }
      ]
    },
    {
      "cell_type": "code",
      "source": [
        "# Convert to float\n",
        "\n",
        "float(36)"
      ],
      "metadata": {
        "colab": {
          "base_uri": "https://localhost:8080/"
        },
        "id": "tXxz9b3KPMbh",
        "outputId": "e12b0d51-ada0-4963-f52a-306443395c5d"
      },
      "execution_count": 37,
      "outputs": [
        {
          "output_type": "execute_result",
          "data": {
            "text/plain": [
              "36.0"
            ]
          },
          "metadata": {},
          "execution_count": 37
        }
      ]
    },
    {
      "cell_type": "code",
      "source": [
        "# Check the data type for integer to float conversion\n",
        "\n",
        "type(float(36))"
      ],
      "metadata": {
        "colab": {
          "base_uri": "https://localhost:8080/"
        },
        "id": "4IY1z9VRPOMF",
        "outputId": "391fccbf-a0e6-4b03-b47f-11dcb58667b4"
      },
      "execution_count": 39,
      "outputs": [
        {
          "output_type": "execute_result",
          "data": {
            "text/plain": [
              "float"
            ]
          },
          "metadata": {},
          "execution_count": 39
        }
      ]
    },
    {
      "cell_type": "markdown",
      "source": [
        "\n",
        "\n",
        "---\n",
        "## **string()**\n",
        "\n",
        "\n",
        "---\n",
        "### *From-and-to-string conversions are tested and validated.*\n",
        "\n"
      ],
      "metadata": {
        "id": "u_SrNSoTRTka"
      }
    },
    {
      "cell_type": "markdown",
      "source": [
        "\n",
        "\n",
        "---\n",
        "### **string to float conversion**\n",
        "\n",
        "\n",
        "---\n",
        "\n"
      ],
      "metadata": {
        "id": "gHEadSWkStv0"
      }
    },
    {
      "cell_type": "code",
      "source": [
        "# Input the string '1.5'\n",
        "\n",
        "'1.5'"
      ],
      "metadata": {
        "colab": {
          "base_uri": "https://localhost:8080/",
          "height": 36
        },
        "id": "iEKcJ-QjQrB4",
        "outputId": "1af657bb-2788-4975-f732-1e9be14a3275"
      },
      "execution_count": 40,
      "outputs": [
        {
          "output_type": "execute_result",
          "data": {
            "text/plain": [
              "'1.5'"
            ],
            "application/vnd.google.colaboratory.intrinsic+json": {
              "type": "string"
            }
          },
          "metadata": {},
          "execution_count": 40
        }
      ]
    },
    {
      "cell_type": "code",
      "source": [
        "# Check the data type\n",
        "\n",
        "type('1.5')"
      ],
      "metadata": {
        "colab": {
          "base_uri": "https://localhost:8080/"
        },
        "id": "oWUlNfhRSWm6",
        "outputId": "5fb8e81a-9f74-49bd-8103-dfb4bd39f06a"
      },
      "execution_count": 42,
      "outputs": [
        {
          "output_type": "execute_result",
          "data": {
            "text/plain": [
              "str"
            ]
          },
          "metadata": {},
          "execution_count": 42
        }
      ]
    },
    {
      "cell_type": "code",
      "source": [
        "# Convert to float\n",
        "\n",
        "float('1.5')"
      ],
      "metadata": {
        "colab": {
          "base_uri": "https://localhost:8080/"
        },
        "id": "OcTT8knERB-6",
        "outputId": "544088c1-f59d-43a1-a4f7-b1802038fa50"
      },
      "execution_count": 44,
      "outputs": [
        {
          "output_type": "execute_result",
          "data": {
            "text/plain": [
              "1.5"
            ]
          },
          "metadata": {},
          "execution_count": 44
        }
      ]
    },
    {
      "cell_type": "code",
      "source": [
        "# Check the data type for string to float conversion\n",
        "\n",
        "type(float('1.5'))"
      ],
      "metadata": {
        "colab": {
          "base_uri": "https://localhost:8080/"
        },
        "id": "tDq1RledRGh2",
        "outputId": "c1f18bc7-7c9e-4bb4-9c45-6e467654e6b7"
      },
      "execution_count": 45,
      "outputs": [
        {
          "output_type": "execute_result",
          "data": {
            "text/plain": [
              "float"
            ]
          },
          "metadata": {},
          "execution_count": 45
        }
      ]
    },
    {
      "cell_type": "markdown",
      "source": [
        "\n",
        "\n",
        "---\n",
        "\n",
        "### **integer to string conversion**\n",
        "\n",
        "\n",
        "---\n",
        "\n"
      ],
      "metadata": {
        "id": "ydM4Zq4dTFqr"
      }
    },
    {
      "cell_type": "code",
      "source": [
        "# Input the integer number 10\n",
        "\n",
        "10"
      ],
      "metadata": {
        "colab": {
          "base_uri": "https://localhost:8080/"
        },
        "id": "prrIoPfhRONi",
        "outputId": "20148ffd-4304-4baf-f31a-ce0e4bf7f4c7"
      },
      "execution_count": null,
      "outputs": [
        {
          "output_type": "execute_result",
          "data": {
            "text/plain": [
              "10"
            ]
          },
          "metadata": {},
          "execution_count": 45
        }
      ]
    },
    {
      "cell_type": "code",
      "source": [
        "# Check the data type\n",
        "\n",
        "type(10)"
      ],
      "metadata": {
        "colab": {
          "base_uri": "https://localhost:8080/"
        },
        "id": "iXDhvpUwRPN4",
        "outputId": "bafbbc02-42fa-46e9-a158-da90ff3bdd10"
      },
      "execution_count": 46,
      "outputs": [
        {
          "output_type": "execute_result",
          "data": {
            "text/plain": [
              "int"
            ]
          },
          "metadata": {},
          "execution_count": 46
        }
      ]
    },
    {
      "cell_type": "code",
      "source": [
        "# Convert to string\n",
        "\n",
        "str(10)"
      ],
      "metadata": {
        "colab": {
          "base_uri": "https://localhost:8080/",
          "height": 36
        },
        "id": "xG3DATdsRQdj",
        "outputId": "c786b72d-7c23-4aca-b307-e04aaeea12f4"
      },
      "execution_count": 47,
      "outputs": [
        {
          "output_type": "execute_result",
          "data": {
            "text/plain": [
              "'10'"
            ],
            "application/vnd.google.colaboratory.intrinsic+json": {
              "type": "string"
            }
          },
          "metadata": {},
          "execution_count": 47
        }
      ]
    },
    {
      "cell_type": "code",
      "source": [
        "# Check the data type for integer to string conversion\n",
        "\n",
        "type(str(10))"
      ],
      "metadata": {
        "colab": {
          "base_uri": "https://localhost:8080/"
        },
        "id": "2pFkps3-RVBC",
        "outputId": "b1fb89fe-6943-41d6-9676-d5d667ff8e3e"
      },
      "execution_count": 48,
      "outputs": [
        {
          "output_type": "execute_result",
          "data": {
            "text/plain": [
              "str"
            ]
          },
          "metadata": {},
          "execution_count": 48
        }
      ]
    },
    {
      "cell_type": "markdown",
      "source": [
        "\n",
        "\n",
        "---\n",
        "\n",
        "### **string to integer with a combination of number and letter**\n",
        "\n",
        "\n",
        "---\n",
        "\n"
      ],
      "metadata": {
        "id": "GaLE2KW6U8Uf"
      }
    },
    {
      "cell_type": "code",
      "source": [
        "# Input the combination string '2a'\n",
        "\n",
        "'2a'"
      ],
      "metadata": {
        "colab": {
          "base_uri": "https://localhost:8080/",
          "height": 36
        },
        "id": "20l1jm77ReFQ",
        "outputId": "25946a61-dbf0-48fd-a98a-c4008f2573f6"
      },
      "execution_count": 49,
      "outputs": [
        {
          "output_type": "execute_result",
          "data": {
            "text/plain": [
              "'2a'"
            ],
            "application/vnd.google.colaboratory.intrinsic+json": {
              "type": "string"
            }
          },
          "metadata": {},
          "execution_count": 49
        }
      ]
    },
    {
      "cell_type": "code",
      "source": [
        "# Check the data type\n",
        "\n",
        "type(\"2a\")"
      ],
      "metadata": {
        "colab": {
          "base_uri": "https://localhost:8080/"
        },
        "id": "OdB7PQrLRnzh",
        "outputId": "e6d571e7-77f8-4015-d8aa-e2548a3b0946"
      },
      "execution_count": 50,
      "outputs": [
        {
          "output_type": "execute_result",
          "data": {
            "text/plain": [
              "str"
            ]
          },
          "metadata": {},
          "execution_count": 50
        }
      ]
    },
    {
      "cell_type": "code",
      "source": [
        "# Convert to integer\n",
        "\n",
        "int(\"2a\")\n",
        "\n",
        "# When the conversion is tested and validated, the result will be an error because invalid literal (2a is not an integer)"
      ],
      "metadata": {
        "colab": {
          "base_uri": "https://localhost:8080/",
          "height": 200
        },
        "id": "jZE3itM7RqL7",
        "outputId": "30d3b25e-a962-496d-aa0d-8aa255921fba"
      },
      "execution_count": 51,
      "outputs": [
        {
          "output_type": "error",
          "ename": "ValueError",
          "evalue": "ignored",
          "traceback": [
            "\u001b[0;31m---------------------------------------------------------------------------\u001b[0m",
            "\u001b[0;31mValueError\u001b[0m                                Traceback (most recent call last)",
            "\u001b[0;32m<ipython-input-51-3d1b272dba64>\u001b[0m in \u001b[0;36m<module>\u001b[0;34m()\u001b[0m\n\u001b[1;32m      1\u001b[0m \u001b[0;31m# convert to integer\u001b[0m\u001b[0;34m\u001b[0m\u001b[0;34m\u001b[0m\u001b[0;34m\u001b[0m\u001b[0m\n\u001b[1;32m      2\u001b[0m \u001b[0;34m\u001b[0m\u001b[0m\n\u001b[0;32m----> 3\u001b[0;31m \u001b[0mint\u001b[0m\u001b[0;34m(\u001b[0m\u001b[0;34m\"2a\"\u001b[0m\u001b[0;34m)\u001b[0m\u001b[0;34m\u001b[0m\u001b[0;34m\u001b[0m\u001b[0m\n\u001b[0m",
            "\u001b[0;31mValueError\u001b[0m: invalid literal for int() with base 10: '2a'"
          ]
        }
      ]
    },
    {
      "cell_type": "markdown",
      "source": [
        "---\n",
        "## **Exercise 2**\n",
        "---\n",
        "\n",
        "### Convert the following data types to strings!\n",
        "\n",
        "* ### 5.9\n",
        "* ### 4\n",
        "\n",
        "### Convert the following data types to integers!\n",
        "\n",
        "* ### 'tiga'\n",
        "* ### '6.7\n",
        "\n",
        "### Convert the following data types to floats!\n",
        "\n",
        "* ### '5.4'\n",
        "* ### 8\n",
        "* ### 'sembilan'\n"
      ],
      "metadata": {
        "id": "rmo7VrlNWNUc"
      }
    },
    {
      "cell_type": "markdown",
      "source": [
        "---\n",
        "## **Answer :**\n",
        "---\n",
        "\n",
        "\n"
      ],
      "metadata": {
        "id": "IPMEb1xDXGDx"
      }
    },
    {
      "cell_type": "markdown",
      "source": [
        "### **Convert the following data types to strings!**\n"
      ],
      "metadata": {
        "id": "0KAt91ARXhoX"
      }
    },
    {
      "cell_type": "markdown",
      "source": [
        "\n",
        "\n",
        "---\n",
        "* ### 5.9\n",
        "\n",
        "\n",
        "---\n",
        "\n",
        "\n"
      ],
      "metadata": {
        "id": "XHjrZtkVXo4l"
      }
    },
    {
      "cell_type": "code",
      "source": [
        "# Input the data 5.9\n",
        "\n",
        "5.9"
      ],
      "metadata": {
        "colab": {
          "base_uri": "https://localhost:8080/"
        },
        "id": "nU4fjdtyTOtF",
        "outputId": "e9ce8267-0de3-4b4a-cba7-4de9c0ddf146"
      },
      "execution_count": 52,
      "outputs": [
        {
          "output_type": "execute_result",
          "data": {
            "text/plain": [
              "5.9"
            ]
          },
          "metadata": {},
          "execution_count": 52
        }
      ]
    },
    {
      "cell_type": "code",
      "source": [
        "# Check the data type\n",
        "\n",
        "type(5.9)"
      ],
      "metadata": {
        "colab": {
          "base_uri": "https://localhost:8080/"
        },
        "id": "I1VZQjE0TQxG",
        "outputId": "c562b5f7-b776-4a08-dd59-c1bbba2551c9"
      },
      "execution_count": 53,
      "outputs": [
        {
          "output_type": "execute_result",
          "data": {
            "text/plain": [
              "float"
            ]
          },
          "metadata": {},
          "execution_count": 53
        }
      ]
    },
    {
      "cell_type": "code",
      "source": [
        "# Convert to string\n",
        "\n",
        "str(5.9)"
      ],
      "metadata": {
        "colab": {
          "base_uri": "https://localhost:8080/",
          "height": 36
        },
        "id": "bDWiQ3OHTBQ0",
        "outputId": "5b56f585-ccd7-4acc-eca0-29672fc5eb9d"
      },
      "execution_count": 54,
      "outputs": [
        {
          "output_type": "execute_result",
          "data": {
            "text/plain": [
              "'5.9'"
            ],
            "application/vnd.google.colaboratory.intrinsic+json": {
              "type": "string"
            }
          },
          "metadata": {},
          "execution_count": 54
        }
      ]
    },
    {
      "cell_type": "code",
      "source": [
        "# Check the data type for float to string conversion\n",
        "\n",
        "type(str(5.9))"
      ],
      "metadata": {
        "colab": {
          "base_uri": "https://localhost:8080/"
        },
        "id": "UWWt5SsVRsUj",
        "outputId": "73f20204-3ca2-4226-bf61-5d6a4d28d61a"
      },
      "execution_count": 55,
      "outputs": [
        {
          "output_type": "execute_result",
          "data": {
            "text/plain": [
              "str"
            ]
          },
          "metadata": {},
          "execution_count": 55
        }
      ]
    },
    {
      "cell_type": "markdown",
      "source": [
        "\n",
        "\n",
        "---\n",
        "* ### 4\n",
        "\n",
        "\n",
        "---\n",
        "\n",
        "\n"
      ],
      "metadata": {
        "id": "URlUpoYpYWlh"
      }
    },
    {
      "cell_type": "code",
      "source": [
        "# Input the data 4\n",
        "\n",
        "4"
      ],
      "metadata": {
        "colab": {
          "base_uri": "https://localhost:8080/"
        },
        "id": "Enzf-n9wTXnq",
        "outputId": "06c23461-9293-411b-92d4-5ac78b4beb41"
      },
      "execution_count": 56,
      "outputs": [
        {
          "output_type": "execute_result",
          "data": {
            "text/plain": [
              "4"
            ]
          },
          "metadata": {},
          "execution_count": 56
        }
      ]
    },
    {
      "cell_type": "code",
      "source": [
        "# Check the data type\n",
        "\n",
        "type(4)"
      ],
      "metadata": {
        "colab": {
          "base_uri": "https://localhost:8080/"
        },
        "id": "QLXPU7o0TYYO",
        "outputId": "e1c9ed7d-9e27-4ca5-89b3-7adaee647ed9"
      },
      "execution_count": 58,
      "outputs": [
        {
          "output_type": "execute_result",
          "data": {
            "text/plain": [
              "int"
            ]
          },
          "metadata": {},
          "execution_count": 58
        }
      ]
    },
    {
      "cell_type": "code",
      "source": [
        "# Convert to string\n",
        "\n",
        "str(4)"
      ],
      "metadata": {
        "colab": {
          "base_uri": "https://localhost:8080/",
          "height": 36
        },
        "id": "2BEItbl1Taou",
        "outputId": "ac5f8931-1197-4203-d026-378b8f4effd7"
      },
      "execution_count": 59,
      "outputs": [
        {
          "output_type": "execute_result",
          "data": {
            "text/plain": [
              "'4'"
            ],
            "application/vnd.google.colaboratory.intrinsic+json": {
              "type": "string"
            }
          },
          "metadata": {},
          "execution_count": 59
        }
      ]
    },
    {
      "cell_type": "code",
      "source": [
        "# Check the data type for integer to string conversion\n",
        "\n",
        "type(str(4))"
      ],
      "metadata": {
        "colab": {
          "base_uri": "https://localhost:8080/"
        },
        "id": "lmrPpkseTcXl",
        "outputId": "c217f7d4-377b-4b26-bf59-857dcc99461a"
      },
      "execution_count": 61,
      "outputs": [
        {
          "output_type": "execute_result",
          "data": {
            "text/plain": [
              "str"
            ]
          },
          "metadata": {},
          "execution_count": 61
        }
      ]
    },
    {
      "cell_type": "markdown",
      "source": [
        "## **Convert the following data types to integers!**"
      ],
      "metadata": {
        "id": "PWGRiFtGZhxE"
      }
    },
    {
      "cell_type": "markdown",
      "source": [
        "\n",
        "\n",
        "---\n",
        "* ### 'tiga'\n",
        "\n",
        "\n",
        "---\n",
        "\n"
      ],
      "metadata": {
        "id": "dfPie2iMZxWe"
      }
    },
    {
      "cell_type": "code",
      "source": [
        "# Input the data 'tiga'\n",
        "\n",
        "'tiga'"
      ],
      "metadata": {
        "id": "afft1suYThfd",
        "colab": {
          "base_uri": "https://localhost:8080/",
          "height": 36
        },
        "outputId": "eeac7d5c-fc08-4fa6-a555-94d46d8253c8"
      },
      "execution_count": 62,
      "outputs": [
        {
          "output_type": "execute_result",
          "data": {
            "text/plain": [
              "'tiga'"
            ],
            "application/vnd.google.colaboratory.intrinsic+json": {
              "type": "string"
            }
          },
          "metadata": {},
          "execution_count": 62
        }
      ]
    },
    {
      "cell_type": "code",
      "source": [
        "# Check the data type\n",
        "\n",
        "type(\"tiga\")"
      ],
      "metadata": {
        "colab": {
          "base_uri": "https://localhost:8080/"
        },
        "id": "bvaEOWRdTjck",
        "outputId": "2584a303-ec51-4f99-8238-6df2b5eda53e"
      },
      "execution_count": 63,
      "outputs": [
        {
          "output_type": "execute_result",
          "data": {
            "text/plain": [
              "str"
            ]
          },
          "metadata": {},
          "execution_count": 63
        }
      ]
    },
    {
      "cell_type": "code",
      "source": [
        "# Convert to integer\n",
        "\n",
        "int(tiga)\n",
        "\n",
        "# When the conversion is tested and validated, the result will be an error because invalid literal (tiga is not an integer)"
      ],
      "metadata": {
        "colab": {
          "base_uri": "https://localhost:8080/",
          "height": 200
        },
        "id": "4hTwHXs6TmlR",
        "outputId": "53370d31-6208-45d3-f306-5e1cb3caa5e5"
      },
      "execution_count": 64,
      "outputs": [
        {
          "output_type": "error",
          "ename": "ValueError",
          "evalue": "ignored",
          "traceback": [
            "\u001b[0;31m---------------------------------------------------------------------------\u001b[0m",
            "\u001b[0;31mValueError\u001b[0m                                Traceback (most recent call last)",
            "\u001b[0;32m<ipython-input-64-22f71e53870a>\u001b[0m in \u001b[0;36m<module>\u001b[0;34m()\u001b[0m\n\u001b[1;32m      1\u001b[0m \u001b[0;31m# convert to integer\u001b[0m\u001b[0;34m\u001b[0m\u001b[0;34m\u001b[0m\u001b[0;34m\u001b[0m\u001b[0m\n\u001b[1;32m      2\u001b[0m \u001b[0;34m\u001b[0m\u001b[0m\n\u001b[0;32m----> 3\u001b[0;31m \u001b[0mint\u001b[0m\u001b[0;34m(\u001b[0m\u001b[0;34m\"tiga\"\u001b[0m\u001b[0;34m)\u001b[0m\u001b[0;34m\u001b[0m\u001b[0;34m\u001b[0m\u001b[0m\n\u001b[0m",
            "\u001b[0;31mValueError\u001b[0m: invalid literal for int() with base 10: 'tiga'"
          ]
        }
      ]
    },
    {
      "cell_type": "markdown",
      "source": [
        "\n",
        "\n",
        "---\n",
        "\n",
        "* ### 6.7\n",
        "\n",
        "---\n",
        "\n"
      ],
      "metadata": {
        "id": "_ebLkVaedydI"
      }
    },
    {
      "cell_type": "code",
      "source": [
        "# Input the data 6.7\n",
        "\n",
        "6.7\n"
      ],
      "metadata": {
        "colab": {
          "base_uri": "https://localhost:8080/"
        },
        "id": "BXK8Ke1EToi9",
        "outputId": "1fc443ba-0f32-41b3-c9e3-7777ab608dca"
      },
      "execution_count": 65,
      "outputs": [
        {
          "output_type": "execute_result",
          "data": {
            "text/plain": [
              "6.7"
            ]
          },
          "metadata": {},
          "execution_count": 65
        }
      ]
    },
    {
      "cell_type": "code",
      "source": [
        "# Check the data type\n",
        "\n",
        "type(6.7)"
      ],
      "metadata": {
        "colab": {
          "base_uri": "https://localhost:8080/"
        },
        "id": "sNN7YGUrTtrm",
        "outputId": "99757eef-51ec-443f-f209-e455ecefa56a"
      },
      "execution_count": 66,
      "outputs": [
        {
          "output_type": "execute_result",
          "data": {
            "text/plain": [
              "float"
            ]
          },
          "metadata": {},
          "execution_count": 66
        }
      ]
    },
    {
      "cell_type": "code",
      "source": [
        "# Convert to integer\n",
        "\n",
        "int(6.7)"
      ],
      "metadata": {
        "colab": {
          "base_uri": "https://localhost:8080/"
        },
        "id": "wKNCxheoTvzs",
        "outputId": "7afe2ef0-b881-465d-e6cf-33fa3f4f04c1"
      },
      "execution_count": 67,
      "outputs": [
        {
          "output_type": "execute_result",
          "data": {
            "text/plain": [
              "6"
            ]
          },
          "metadata": {},
          "execution_count": 67
        }
      ]
    },
    {
      "cell_type": "code",
      "source": [
        "# Check the data type for float to integer conversion\n",
        "\n",
        "type(int(6.7))"
      ],
      "metadata": {
        "colab": {
          "base_uri": "https://localhost:8080/"
        },
        "id": "5beWdTdbTxlu",
        "outputId": "d4c96d2b-ca9e-4c80-b0b4-e4fb77d66ecb"
      },
      "execution_count": 68,
      "outputs": [
        {
          "output_type": "execute_result",
          "data": {
            "text/plain": [
              "int"
            ]
          },
          "metadata": {},
          "execution_count": 68
        }
      ]
    },
    {
      "cell_type": "markdown",
      "source": [
        "\n",
        "\n",
        "---\n",
        "* ### '5.4'\n",
        "\n",
        "\n",
        "---\n",
        "\n"
      ],
      "metadata": {
        "id": "CeqmRcB6eHKo"
      }
    },
    {
      "cell_type": "code",
      "source": [
        "# Input the data '5.4'\n",
        "\n",
        "'5.4'"
      ],
      "metadata": {
        "colab": {
          "base_uri": "https://localhost:8080/",
          "height": 36
        },
        "id": "CfI3zS2OTzQC",
        "outputId": "f33235cc-d0e5-4b18-c884-82332295754e"
      },
      "execution_count": 69,
      "outputs": [
        {
          "output_type": "execute_result",
          "data": {
            "text/plain": [
              "'5.4'"
            ],
            "application/vnd.google.colaboratory.intrinsic+json": {
              "type": "string"
            }
          },
          "metadata": {},
          "execution_count": 69
        }
      ]
    },
    {
      "cell_type": "code",
      "source": [
        "# Check the data type\n",
        "\n",
        "type('5.4')"
      ],
      "metadata": {
        "colab": {
          "base_uri": "https://localhost:8080/"
        },
        "id": "DMDIA8-oT1oq",
        "outputId": "dede4342-a548-4582-9c91-7af2a1d181f1"
      },
      "execution_count": 71,
      "outputs": [
        {
          "output_type": "execute_result",
          "data": {
            "text/plain": [
              "str"
            ]
          },
          "metadata": {},
          "execution_count": 71
        }
      ]
    },
    {
      "cell_type": "code",
      "source": [
        "# Convert to float\n",
        "\n",
        "float('5.4')"
      ],
      "metadata": {
        "colab": {
          "base_uri": "https://localhost:8080/"
        },
        "id": "ZhVpA8QQT6Ow",
        "outputId": "8d02f34d-7f9b-43cb-b661-a0f24fcde327"
      },
      "execution_count": 72,
      "outputs": [
        {
          "output_type": "execute_result",
          "data": {
            "text/plain": [
              "5.4"
            ]
          },
          "metadata": {},
          "execution_count": 72
        }
      ]
    },
    {
      "cell_type": "code",
      "source": [
        "# Check the data type for string to float conversion\n",
        "\n",
        "type(float(\"5.4\"))"
      ],
      "metadata": {
        "colab": {
          "base_uri": "https://localhost:8080/"
        },
        "id": "HoyomGykT82f",
        "outputId": "1b10a433-b981-40d7-c191-559322fa2ae2"
      },
      "execution_count": 73,
      "outputs": [
        {
          "output_type": "execute_result",
          "data": {
            "text/plain": [
              "float"
            ]
          },
          "metadata": {},
          "execution_count": 73
        }
      ]
    },
    {
      "cell_type": "markdown",
      "source": [
        "\n",
        "\n",
        "---\n",
        "* ### 8\n",
        "\n",
        "\n",
        "---\n",
        "\n"
      ],
      "metadata": {
        "id": "4-YQCShqehN9"
      }
    },
    {
      "cell_type": "code",
      "source": [
        "# Input the data 8\n",
        "\n",
        "8\n"
      ],
      "metadata": {
        "colab": {
          "base_uri": "https://localhost:8080/"
        },
        "id": "LTXSO58RT_aW",
        "outputId": "a73f3f3f-3520-4150-b0c9-89c6a7b779c4"
      },
      "execution_count": 74,
      "outputs": [
        {
          "output_type": "execute_result",
          "data": {
            "text/plain": [
              "8"
            ]
          },
          "metadata": {},
          "execution_count": 74
        }
      ]
    },
    {
      "cell_type": "code",
      "source": [
        "# Check the data type\n",
        "\n",
        "type(8)"
      ],
      "metadata": {
        "colab": {
          "base_uri": "https://localhost:8080/"
        },
        "id": "NjfRrxErUBYU",
        "outputId": "1f870b02-9667-444f-9338-c347a3be319b"
      },
      "execution_count": 75,
      "outputs": [
        {
          "output_type": "execute_result",
          "data": {
            "text/plain": [
              "int"
            ]
          },
          "metadata": {},
          "execution_count": 75
        }
      ]
    },
    {
      "cell_type": "code",
      "source": [
        "# Convert to float\n",
        "\n",
        "float(8)"
      ],
      "metadata": {
        "colab": {
          "base_uri": "https://localhost:8080/"
        },
        "id": "9w-93gxmUC1E",
        "outputId": "b65b0833-9faa-40f7-b1b4-726f0e0b5d43"
      },
      "execution_count": 76,
      "outputs": [
        {
          "output_type": "execute_result",
          "data": {
            "text/plain": [
              "8.0"
            ]
          },
          "metadata": {},
          "execution_count": 76
        }
      ]
    },
    {
      "cell_type": "code",
      "source": [
        "# Check the data type for integer to float conversion\n",
        "\n",
        "type(float(8))"
      ],
      "metadata": {
        "colab": {
          "base_uri": "https://localhost:8080/"
        },
        "id": "o5FudVIGUERn",
        "outputId": "dc41571f-30dc-45e9-9ef1-d2bf209a66bd"
      },
      "execution_count": 77,
      "outputs": [
        {
          "output_type": "execute_result",
          "data": {
            "text/plain": [
              "float"
            ]
          },
          "metadata": {},
          "execution_count": 77
        }
      ]
    },
    {
      "cell_type": "markdown",
      "source": [
        "\n",
        "\n",
        "---\n",
        "\n",
        "* ### 'sembilan'\n",
        "\n",
        "---\n",
        "\n"
      ],
      "metadata": {
        "id": "mRrLn3QJfCBq"
      }
    },
    {
      "cell_type": "code",
      "source": [
        "# Input the data 'sembilan'\n",
        "\n",
        "'sembilan'"
      ],
      "metadata": {
        "colab": {
          "base_uri": "https://localhost:8080/",
          "height": 36
        },
        "id": "0M3h1WFiUGQm",
        "outputId": "fa8c1561-e53a-4a54-ba1c-57e2ee6aad64"
      },
      "execution_count": 79,
      "outputs": [
        {
          "output_type": "execute_result",
          "data": {
            "text/plain": [
              "'sembilan'"
            ],
            "application/vnd.google.colaboratory.intrinsic+json": {
              "type": "string"
            }
          },
          "metadata": {},
          "execution_count": 79
        }
      ]
    },
    {
      "cell_type": "code",
      "source": [
        "# Check the data type\n",
        "\n",
        "type('sembilan')"
      ],
      "metadata": {
        "id": "DxDAXORYUIU0",
        "outputId": "9ec209f5-1757-4a3e-c78a-29b0509a4ce2",
        "colab": {
          "base_uri": "https://localhost:8080/"
        }
      },
      "execution_count": 80,
      "outputs": [
        {
          "output_type": "execute_result",
          "data": {
            "text/plain": [
              "str"
            ]
          },
          "metadata": {},
          "execution_count": 80
        }
      ]
    },
    {
      "cell_type": "code",
      "source": [
        "# Convert to float\n",
        "\n",
        "float('sembilan')\n",
        "\n",
        "# When the conversion is tested and validated, the result will be an error because could not convert string to float (sembilan is a string)\n"
      ],
      "metadata": {
        "id": "CN6jg42AUJ-6",
        "outputId": "6296c6f0-39c3-4cf5-96a4-432538bb42c2",
        "colab": {
          "base_uri": "https://localhost:8080/",
          "height": 200
        }
      },
      "execution_count": 81,
      "outputs": [
        {
          "output_type": "error",
          "ename": "ValueError",
          "evalue": "ignored",
          "traceback": [
            "\u001b[0;31m---------------------------------------------------------------------------\u001b[0m",
            "\u001b[0;31mValueError\u001b[0m                                Traceback (most recent call last)",
            "\u001b[0;32m<ipython-input-81-05274ce0770e>\u001b[0m in \u001b[0;36m<module>\u001b[0;34m()\u001b[0m\n\u001b[1;32m      1\u001b[0m \u001b[0;31m# convert to float\u001b[0m\u001b[0;34m\u001b[0m\u001b[0;34m\u001b[0m\u001b[0;34m\u001b[0m\u001b[0m\n\u001b[1;32m      2\u001b[0m \u001b[0;34m\u001b[0m\u001b[0m\n\u001b[0;32m----> 3\u001b[0;31m \u001b[0mfloat\u001b[0m\u001b[0;34m(\u001b[0m\u001b[0;34m'sembilan'\u001b[0m\u001b[0;34m)\u001b[0m\u001b[0;34m\u001b[0m\u001b[0;34m\u001b[0m\u001b[0m\n\u001b[0m",
            "\u001b[0;31mValueError\u001b[0m: could not convert string to float: 'sembilan'"
          ]
        }
      ]
    },
    {
      "cell_type": "markdown",
      "source": [
        "\n",
        "\n",
        "---\n",
        "\n",
        "### **Convert string containing mathematical expression to integer**\n",
        "\n",
        "\n",
        "---\n",
        "\n"
      ],
      "metadata": {
        "id": "U1WoV5fpuTBT"
      }
    },
    {
      "cell_type": "code",
      "source": [
        "# Input string contains mathematical expression '10+20'\n",
        "\n",
        "'10+20'"
      ],
      "metadata": {
        "colab": {
          "base_uri": "https://localhost:8080/",
          "height": 36
        },
        "id": "_3YD_hLpuf5L",
        "outputId": "d786275d-a7ff-410f-e319-36b85ff49d86"
      },
      "execution_count": 190,
      "outputs": [
        {
          "output_type": "execute_result",
          "data": {
            "text/plain": [
              "'10+20'"
            ],
            "application/vnd.google.colaboratory.intrinsic+json": {
              "type": "string"
            }
          },
          "metadata": {},
          "execution_count": 190
        }
      ]
    },
    {
      "cell_type": "code",
      "source": [
        "# Check the data type\n",
        "\n",
        "type('10+20')"
      ],
      "metadata": {
        "colab": {
          "base_uri": "https://localhost:8080/"
        },
        "id": "9AXuseHWurYR",
        "outputId": "57036bc3-c43e-4085-ab21-aebec3d997b3"
      },
      "execution_count": 191,
      "outputs": [
        {
          "output_type": "execute_result",
          "data": {
            "text/plain": [
              "str"
            ]
          },
          "metadata": {},
          "execution_count": 191
        }
      ]
    },
    {
      "cell_type": "code",
      "source": [
        "# Convert to integer\n",
        "\n",
        "int('10+20')\n",
        "\n",
        "# The result will contain an error because invalid literal for int()"
      ],
      "metadata": {
        "colab": {
          "base_uri": "https://localhost:8080/",
          "height": 200
        },
        "id": "1JsoytQtu1eS",
        "outputId": "53d22641-0d7a-437b-8f46-4e990c29b969"
      },
      "execution_count": 192,
      "outputs": [
        {
          "output_type": "error",
          "ename": "ValueError",
          "evalue": "ignored",
          "traceback": [
            "\u001b[0;31m---------------------------------------------------------------------------\u001b[0m",
            "\u001b[0;31mValueError\u001b[0m                                Traceback (most recent call last)",
            "\u001b[0;32m<ipython-input-192-cf2023c6a739>\u001b[0m in \u001b[0;36m<module>\u001b[0;34m()\u001b[0m\n\u001b[1;32m      1\u001b[0m \u001b[0;31m# Convert to integer\u001b[0m\u001b[0;34m\u001b[0m\u001b[0;34m\u001b[0m\u001b[0;34m\u001b[0m\u001b[0m\n\u001b[1;32m      2\u001b[0m \u001b[0;34m\u001b[0m\u001b[0m\n\u001b[0;32m----> 3\u001b[0;31m \u001b[0mint\u001b[0m\u001b[0;34m(\u001b[0m\u001b[0;34m'10+20'\u001b[0m\u001b[0;34m)\u001b[0m\u001b[0;34m\u001b[0m\u001b[0;34m\u001b[0m\u001b[0m\n\u001b[0m",
            "\u001b[0;31mValueError\u001b[0m: invalid literal for int() with base 10: '10+20'"
          ]
        }
      ]
    },
    {
      "cell_type": "code",
      "source": [
        "# To convert string containing mathematical expression we can use eval()\n",
        "\n",
        "eval('10+20')"
      ],
      "metadata": {
        "colab": {
          "base_uri": "https://localhost:8080/"
        },
        "id": "UHrS4puIvMx5",
        "outputId": "25247aa5-9814-4dc4-cab1-9660c400862d"
      },
      "execution_count": 193,
      "outputs": [
        {
          "output_type": "execute_result",
          "data": {
            "text/plain": [
              "30"
            ]
          },
          "metadata": {},
          "execution_count": 193
        }
      ]
    },
    {
      "cell_type": "code",
      "source": [
        "# Check the data type for string containing mathematical expression to integer conversion\n",
        "\n",
        "type(eval('10+20'))"
      ],
      "metadata": {
        "colab": {
          "base_uri": "https://localhost:8080/"
        },
        "id": "9R4hp74OvWI5",
        "outputId": "b368094d-eb0a-4ef7-f123-4dfb0b1f00fa"
      },
      "execution_count": 194,
      "outputs": [
        {
          "output_type": "execute_result",
          "data": {
            "text/plain": [
              "int"
            ]
          },
          "metadata": {},
          "execution_count": 194
        }
      ]
    },
    {
      "cell_type": "markdown",
      "source": [
        "\n",
        "\n",
        "---\n",
        "\n",
        "### **Convert string containing mathematical expression to float**\n",
        "\n",
        "\n",
        "---\n",
        "\n"
      ],
      "metadata": {
        "id": "2l8x26U6vjow"
      }
    },
    {
      "cell_type": "code",
      "source": [
        "# Input the string containing mathematical expression '10+20.5'\n",
        "\n",
        "'10+20.5'"
      ],
      "metadata": {
        "colab": {
          "base_uri": "https://localhost:8080/",
          "height": 36
        },
        "id": "ZcfhqzjXvkZc",
        "outputId": "82098d74-53b5-4ac7-d8bd-3a674bb72c38"
      },
      "execution_count": 195,
      "outputs": [
        {
          "output_type": "execute_result",
          "data": {
            "text/plain": [
              "'10+20.5'"
            ],
            "application/vnd.google.colaboratory.intrinsic+json": {
              "type": "string"
            }
          },
          "metadata": {},
          "execution_count": 195
        }
      ]
    },
    {
      "cell_type": "code",
      "source": [
        "# Check the data type\n",
        "\n",
        "type('10+20.5')"
      ],
      "metadata": {
        "colab": {
          "base_uri": "https://localhost:8080/"
        },
        "id": "TD-y7RLTv9fy",
        "outputId": "e522e305-0814-41e9-8eef-9af26bbea69f"
      },
      "execution_count": 196,
      "outputs": [
        {
          "output_type": "execute_result",
          "data": {
            "text/plain": [
              "str"
            ]
          },
          "metadata": {},
          "execution_count": 196
        }
      ]
    },
    {
      "cell_type": "code",
      "source": [
        "# Convert to float\n",
        "\n",
        "float('10+20.5')\n",
        "\n",
        "# The result will contain an error because could not convert string to float using float()"
      ],
      "metadata": {
        "colab": {
          "base_uri": "https://localhost:8080/",
          "height": 200
        },
        "id": "cMEXjURawL2I",
        "outputId": "f17a6844-1d67-45dc-d978-00157f23383a"
      },
      "execution_count": 197,
      "outputs": [
        {
          "output_type": "error",
          "ename": "ValueError",
          "evalue": "ignored",
          "traceback": [
            "\u001b[0;31m---------------------------------------------------------------------------\u001b[0m",
            "\u001b[0;31mValueError\u001b[0m                                Traceback (most recent call last)",
            "\u001b[0;32m<ipython-input-197-0d54386e9e8f>\u001b[0m in \u001b[0;36m<module>\u001b[0;34m()\u001b[0m\n\u001b[1;32m      1\u001b[0m \u001b[0;31m# Convert to float\u001b[0m\u001b[0;34m\u001b[0m\u001b[0;34m\u001b[0m\u001b[0;34m\u001b[0m\u001b[0m\n\u001b[1;32m      2\u001b[0m \u001b[0;34m\u001b[0m\u001b[0m\n\u001b[0;32m----> 3\u001b[0;31m \u001b[0mfloat\u001b[0m\u001b[0;34m(\u001b[0m\u001b[0;34m'10+20.5'\u001b[0m\u001b[0;34m)\u001b[0m\u001b[0;34m\u001b[0m\u001b[0;34m\u001b[0m\u001b[0m\n\u001b[0m",
            "\u001b[0;31mValueError\u001b[0m: could not convert string to float: '10+20.5'"
          ]
        }
      ]
    },
    {
      "cell_type": "code",
      "source": [
        "# # To convert string containing mathematical expression we can use eval()\n",
        "\n",
        "eval('10+20.5')"
      ],
      "metadata": {
        "colab": {
          "base_uri": "https://localhost:8080/"
        },
        "id": "1gtL1F7ewZe8",
        "outputId": "1e7bec2c-adaa-4b6a-806d-1c35ade92396"
      },
      "execution_count": 198,
      "outputs": [
        {
          "output_type": "execute_result",
          "data": {
            "text/plain": [
              "30.5"
            ]
          },
          "metadata": {},
          "execution_count": 198
        }
      ]
    },
    {
      "cell_type": "markdown",
      "source": [
        "\n",
        "\n",
        "---\n",
        "# **Conversion between advanced data types**\n",
        "\n",
        "\n",
        "---\n",
        "\n",
        "## We can also convert any data types to advanced data types (list, tuple, set, dictionary) :\n",
        "\n",
        "* ## list()\n",
        "* ## tuple()\n",
        "* ## set()\n",
        "* ## dict()\n"
      ],
      "metadata": {
        "id": "LaQgxnTyfwdU"
      }
    },
    {
      "cell_type": "markdown",
      "source": [
        "---\n",
        "## **list()**\n",
        "---\n",
        "\n",
        "### *Convert to list*"
      ],
      "metadata": {
        "id": "IdzfaXB3hR83"
      }
    },
    {
      "cell_type": "markdown",
      "source": [
        "\n",
        "\n",
        "---\n",
        "\n",
        "\n",
        "### **Convert tuple to list**\n",
        "\n",
        "---\n",
        "\n"
      ],
      "metadata": {
        "id": "0l6Y5q8p8UVB"
      }
    },
    {
      "cell_type": "code",
      "source": [
        "# Input the tuple (4,5,6)\n",
        "\n",
        "(4,5,6)"
      ],
      "metadata": {
        "colab": {
          "base_uri": "https://localhost:8080/"
        },
        "id": "-rA9FqUn8c3q",
        "outputId": "d7a26a2a-4e20-4dc3-9d4f-002025f7e04e"
      },
      "execution_count": 102,
      "outputs": [
        {
          "output_type": "execute_result",
          "data": {
            "text/plain": [
              "(4, 5, 6)"
            ]
          },
          "metadata": {},
          "execution_count": 102
        }
      ]
    },
    {
      "cell_type": "code",
      "source": [
        "# Check the data type\n",
        "\n",
        "type((4,5,6))"
      ],
      "metadata": {
        "colab": {
          "base_uri": "https://localhost:8080/"
        },
        "id": "Cse4r0zE8gvD",
        "outputId": "095f6831-f095-47a1-c77f-bdc02c1d66a7"
      },
      "execution_count": 104,
      "outputs": [
        {
          "output_type": "execute_result",
          "data": {
            "text/plain": [
              "tuple"
            ]
          },
          "metadata": {},
          "execution_count": 104
        }
      ]
    },
    {
      "cell_type": "code",
      "source": [
        "# Convert to list\n",
        "\n",
        "list((4,5,6))"
      ],
      "metadata": {
        "colab": {
          "base_uri": "https://localhost:8080/"
        },
        "id": "O8eOrbPl8wZl",
        "outputId": "0562f2a4-56ed-484e-bff5-d8d1282761b9"
      },
      "execution_count": 105,
      "outputs": [
        {
          "output_type": "execute_result",
          "data": {
            "text/plain": [
              "[4, 5, 6]"
            ]
          },
          "metadata": {},
          "execution_count": 105
        }
      ]
    },
    {
      "cell_type": "code",
      "source": [
        "# Check the data type for tuple to list conversion\n",
        "\n",
        "type(list((4,5,6)))"
      ],
      "metadata": {
        "colab": {
          "base_uri": "https://localhost:8080/"
        },
        "id": "iJz-SPnH812f",
        "outputId": "c92b2ef5-ceb5-4317-acc2-6a70aec1611f"
      },
      "execution_count": 106,
      "outputs": [
        {
          "output_type": "execute_result",
          "data": {
            "text/plain": [
              "list"
            ]
          },
          "metadata": {},
          "execution_count": 106
        }
      ]
    },
    {
      "cell_type": "markdown",
      "source": [
        "\n",
        "\n",
        "---\n",
        "\n",
        "\n",
        "### **Convert set to list**\n",
        "\n",
        "---\n",
        "\n"
      ],
      "metadata": {
        "id": "zBCaTcY_ASdJ"
      }
    },
    {
      "cell_type": "code",
      "source": [
        "# Input the set {4,5,6}\n",
        "\n",
        "{4,5,6}"
      ],
      "metadata": {
        "colab": {
          "base_uri": "https://localhost:8080/"
        },
        "id": "NtOnIGuKAVzq",
        "outputId": "49887a58-38f7-4235-dd55-8a69d91730c9"
      },
      "execution_count": 107,
      "outputs": [
        {
          "output_type": "execute_result",
          "data": {
            "text/plain": [
              "{4, 5, 6}"
            ]
          },
          "metadata": {},
          "execution_count": 107
        }
      ]
    },
    {
      "cell_type": "code",
      "source": [
        "# Check the data type\n",
        "\n",
        "type({4,5,6})"
      ],
      "metadata": {
        "colab": {
          "base_uri": "https://localhost:8080/"
        },
        "id": "pNHO0IiMBIU9",
        "outputId": "b5ed14ba-f87c-4203-d886-3f6ea63ceeb2"
      },
      "execution_count": 108,
      "outputs": [
        {
          "output_type": "execute_result",
          "data": {
            "text/plain": [
              "set"
            ]
          },
          "metadata": {},
          "execution_count": 108
        }
      ]
    },
    {
      "cell_type": "code",
      "source": [
        "# Convert to list\n",
        "\n",
        "list({4,5,6})"
      ],
      "metadata": {
        "colab": {
          "base_uri": "https://localhost:8080/"
        },
        "id": "z3JC0bnCBb2u",
        "outputId": "904e5b6c-8e85-4fed-e80b-4ab5952aaa16"
      },
      "execution_count": 109,
      "outputs": [
        {
          "output_type": "execute_result",
          "data": {
            "text/plain": [
              "[4, 5, 6]"
            ]
          },
          "metadata": {},
          "execution_count": 109
        }
      ]
    },
    {
      "cell_type": "code",
      "source": [
        "# Check the data type for set to list conversion\n",
        "\n",
        "type(list({4,5,6}))"
      ],
      "metadata": {
        "colab": {
          "base_uri": "https://localhost:8080/"
        },
        "id": "vgP_gBHNBf2S",
        "outputId": "2246a7d5-84c5-4545-cf83-9be2328b8eb2"
      },
      "execution_count": 110,
      "outputs": [
        {
          "output_type": "execute_result",
          "data": {
            "text/plain": [
              "list"
            ]
          },
          "metadata": {},
          "execution_count": 110
        }
      ]
    },
    {
      "cell_type": "markdown",
      "source": [
        "\n",
        "\n",
        "---\n",
        "\n",
        "\n",
        "### **Convert dictionary to list**\n",
        "\n",
        "---\n",
        "\n"
      ],
      "metadata": {
        "id": "a5kOgdVuBnd0"
      }
    },
    {
      "cell_type": "code",
      "source": [
        "# input the dictionary {4: 5, 6: 7}\n",
        "\n",
        "{4: 5}"
      ],
      "metadata": {
        "colab": {
          "base_uri": "https://localhost:8080/"
        },
        "id": "9Lnlh_CjBvD9",
        "outputId": "d6a8d6cb-b11f-48eb-cc0e-0289b6a3dbf9"
      },
      "execution_count": 114,
      "outputs": [
        {
          "output_type": "execute_result",
          "data": {
            "text/plain": [
              "{4: 5}"
            ]
          },
          "metadata": {},
          "execution_count": 114
        }
      ]
    },
    {
      "cell_type": "code",
      "source": [
        "# Check the data type\n",
        "\n",
        "type({4: 5})"
      ],
      "metadata": {
        "colab": {
          "base_uri": "https://localhost:8080/"
        },
        "id": "su3VGLihB8_y",
        "outputId": "23a36dec-0974-44d2-856d-f76c7da798d8"
      },
      "execution_count": 115,
      "outputs": [
        {
          "output_type": "execute_result",
          "data": {
            "text/plain": [
              "dict"
            ]
          },
          "metadata": {},
          "execution_count": 115
        }
      ]
    },
    {
      "cell_type": "code",
      "source": [
        "# Convert to list\n",
        "\n",
        "list({4: 5})\n",
        "\n",
        "# Dictionary contain of key-value (only the key converted to list)"
      ],
      "metadata": {
        "colab": {
          "base_uri": "https://localhost:8080/"
        },
        "id": "5IAIA2lkCAmC",
        "outputId": "3da05fe7-bb00-4164-89c9-d700dc896fb7"
      },
      "execution_count": 116,
      "outputs": [
        {
          "output_type": "execute_result",
          "data": {
            "text/plain": [
              "[4]"
            ]
          },
          "metadata": {},
          "execution_count": 116
        }
      ]
    },
    {
      "cell_type": "markdown",
      "source": [
        "\n",
        "\n",
        "---\n",
        "\n",
        "\n",
        "### **Convert integer to list**\n",
        "\n",
        "---\n",
        "\n"
      ],
      "metadata": {
        "id": "h_OC4fCWCu-9"
      }
    },
    {
      "cell_type": "code",
      "source": [
        "# input the integer number 4\n",
        "\n",
        "4"
      ],
      "metadata": {
        "id": "uYEcXQyCCseA"
      },
      "execution_count": null,
      "outputs": []
    },
    {
      "cell_type": "code",
      "source": [
        "# Check the data type\n",
        "\n",
        "type(4)"
      ],
      "metadata": {
        "colab": {
          "base_uri": "https://localhost:8080/"
        },
        "id": "NVgBdC5AC8fm",
        "outputId": "7cbb30f0-db72-437c-ae37-76bec8f1bf85"
      },
      "execution_count": 118,
      "outputs": [
        {
          "output_type": "execute_result",
          "data": {
            "text/plain": [
              "int"
            ]
          },
          "metadata": {},
          "execution_count": 118
        }
      ]
    },
    {
      "cell_type": "code",
      "source": [
        "# Convert to list\n",
        "\n",
        "list(4)\n",
        "\n",
        "# The result will be an error because integer object is not iterable"
      ],
      "metadata": {
        "colab": {
          "base_uri": "https://localhost:8080/",
          "height": 200
        },
        "id": "s-yfF0mGDA7W",
        "outputId": "11aed11d-4130-43fe-a0b7-ede8f6a22d6b"
      },
      "execution_count": 119,
      "outputs": [
        {
          "output_type": "error",
          "ename": "TypeError",
          "evalue": "ignored",
          "traceback": [
            "\u001b[0;31m---------------------------------------------------------------------------\u001b[0m",
            "\u001b[0;31mTypeError\u001b[0m                                 Traceback (most recent call last)",
            "\u001b[0;32m<ipython-input-119-b4ee47a5a500>\u001b[0m in \u001b[0;36m<module>\u001b[0;34m()\u001b[0m\n\u001b[1;32m      1\u001b[0m \u001b[0;31m# Convert to list\u001b[0m\u001b[0;34m\u001b[0m\u001b[0;34m\u001b[0m\u001b[0;34m\u001b[0m\u001b[0m\n\u001b[1;32m      2\u001b[0m \u001b[0;34m\u001b[0m\u001b[0m\n\u001b[0;32m----> 3\u001b[0;31m \u001b[0mlist\u001b[0m\u001b[0;34m(\u001b[0m\u001b[0;36m4\u001b[0m\u001b[0;34m)\u001b[0m\u001b[0;34m\u001b[0m\u001b[0;34m\u001b[0m\u001b[0m\n\u001b[0m",
            "\u001b[0;31mTypeError\u001b[0m: 'int' object is not iterable"
          ]
        }
      ]
    },
    {
      "cell_type": "markdown",
      "source": [
        "\n",
        "\n",
        "---\n",
        "\n",
        "\n",
        "### **Convert float to list**\n",
        "\n",
        "---\n",
        "\n"
      ],
      "metadata": {
        "id": "8X8RqCRYDY1J"
      }
    },
    {
      "cell_type": "code",
      "source": [
        "# Input the float number 1.5\n",
        "\n",
        "1.5"
      ],
      "metadata": {
        "id": "99INSROQDeGs"
      },
      "execution_count": null,
      "outputs": []
    },
    {
      "cell_type": "code",
      "source": [
        "# Check the data type\n",
        "\n",
        "type(1.5)"
      ],
      "metadata": {
        "colab": {
          "base_uri": "https://localhost:8080/"
        },
        "id": "uOClE4LODjkf",
        "outputId": "d06ec271-3dc4-45f1-9602-085b1be85e24"
      },
      "execution_count": 120,
      "outputs": [
        {
          "output_type": "execute_result",
          "data": {
            "text/plain": [
              "float"
            ]
          },
          "metadata": {},
          "execution_count": 120
        }
      ]
    },
    {
      "cell_type": "code",
      "source": [
        "# Convert to list\n",
        "\n",
        "list(1.5)\n",
        "\n",
        "# The result will be an error because float object is not iterable"
      ],
      "metadata": {
        "colab": {
          "base_uri": "https://localhost:8080/",
          "height": 200
        },
        "id": "zt6qCwYwDmOr",
        "outputId": "62a4f82a-9a32-4253-8181-1ddef1ef5fe2"
      },
      "execution_count": 122,
      "outputs": [
        {
          "output_type": "error",
          "ename": "TypeError",
          "evalue": "ignored",
          "traceback": [
            "\u001b[0;31m---------------------------------------------------------------------------\u001b[0m",
            "\u001b[0;31mTypeError\u001b[0m                                 Traceback (most recent call last)",
            "\u001b[0;32m<ipython-input-122-969a9fb14327>\u001b[0m in \u001b[0;36m<module>\u001b[0;34m()\u001b[0m\n\u001b[1;32m      1\u001b[0m \u001b[0;31m# Convert to list\u001b[0m\u001b[0;34m\u001b[0m\u001b[0;34m\u001b[0m\u001b[0;34m\u001b[0m\u001b[0m\n\u001b[1;32m      2\u001b[0m \u001b[0;34m\u001b[0m\u001b[0m\n\u001b[0;32m----> 3\u001b[0;31m \u001b[0mlist\u001b[0m\u001b[0;34m(\u001b[0m\u001b[0;36m1.5\u001b[0m\u001b[0;34m)\u001b[0m\u001b[0;34m\u001b[0m\u001b[0;34m\u001b[0m\u001b[0m\n\u001b[0m",
            "\u001b[0;31mTypeError\u001b[0m: 'float' object is not iterable"
          ]
        }
      ]
    },
    {
      "cell_type": "markdown",
      "source": [
        "\n",
        "\n",
        "---\n",
        "\n",
        "\n",
        "### **Convert string to list**\n",
        "\n",
        "---\n",
        "\n"
      ],
      "metadata": {
        "id": "1C04JAiiD2yM"
      }
    },
    {
      "cell_type": "code",
      "source": [
        "# input the string 'Data Science'\n",
        "\n",
        "'Data Science'"
      ],
      "metadata": {
        "colab": {
          "base_uri": "https://localhost:8080/",
          "height": 36
        },
        "id": "1MOsxAzdD6VP",
        "outputId": "b06af3ae-5a3c-4f60-d984-cfbe22281d64"
      },
      "execution_count": 123,
      "outputs": [
        {
          "output_type": "execute_result",
          "data": {
            "text/plain": [
              "'Data Science'"
            ],
            "application/vnd.google.colaboratory.intrinsic+json": {
              "type": "string"
            }
          },
          "metadata": {},
          "execution_count": 123
        }
      ]
    },
    {
      "cell_type": "code",
      "source": [
        "# Check the data type\n",
        "\n",
        "type('Data Science')"
      ],
      "metadata": {
        "colab": {
          "base_uri": "https://localhost:8080/"
        },
        "id": "6PHfUeM8EE8v",
        "outputId": "0ea71658-8f7e-4e8a-a7a1-544564af158e"
      },
      "execution_count": 124,
      "outputs": [
        {
          "output_type": "execute_result",
          "data": {
            "text/plain": [
              "str"
            ]
          },
          "metadata": {},
          "execution_count": 124
        }
      ]
    },
    {
      "cell_type": "code",
      "source": [
        "# Convert to list\n",
        "\n",
        "list('Data Science')\n",
        "\n",
        "# String elements will be broken down into per character"
      ],
      "metadata": {
        "colab": {
          "base_uri": "https://localhost:8080/"
        },
        "id": "34dF62zOEKr-",
        "outputId": "5ad78cfa-1528-46af-c1eb-d07dc94c43cb"
      },
      "execution_count": 125,
      "outputs": [
        {
          "output_type": "execute_result",
          "data": {
            "text/plain": [
              "['D', 'a', 't', 'a', ' ', 'S', 'c', 'i', 'e', 'n', 'c', 'e']"
            ]
          },
          "metadata": {},
          "execution_count": 125
        }
      ]
    },
    {
      "cell_type": "markdown",
      "source": [
        "---\n",
        "## **tuple()**\n",
        "---\n",
        "\n",
        "### *Convert to tuple*"
      ],
      "metadata": {
        "id": "9iFrnQaiEs5c"
      }
    },
    {
      "cell_type": "markdown",
      "source": [
        "\n",
        "\n",
        "---\n",
        "\n",
        "\n",
        "### **Convert list to tuple (immutable)**\n",
        "\n",
        "---\n",
        "\n"
      ],
      "metadata": {
        "id": "Ag8XGbsYktr1"
      }
    },
    {
      "cell_type": "code",
      "source": [
        "# Input the list [4,5,6]\n",
        "\n",
        "[4,5,6]"
      ],
      "metadata": {
        "colab": {
          "base_uri": "https://localhost:8080/"
        },
        "id": "eZGCde0miNTp",
        "outputId": "d790797b-283c-4ad4-c004-7fd7658ac318"
      },
      "execution_count": 88,
      "outputs": [
        {
          "output_type": "execute_result",
          "data": {
            "text/plain": [
              "[4, 5, 6]"
            ]
          },
          "metadata": {},
          "execution_count": 88
        }
      ]
    },
    {
      "cell_type": "code",
      "source": [
        "# Check the data type\n",
        "\n",
        "type([4,5,6])"
      ],
      "metadata": {
        "colab": {
          "base_uri": "https://localhost:8080/"
        },
        "id": "055XKqRSlDeH",
        "outputId": "25fc130b-e041-4cf9-f524-9a79db7761f3"
      },
      "execution_count": 86,
      "outputs": [
        {
          "output_type": "execute_result",
          "data": {
            "text/plain": [
              "list"
            ]
          },
          "metadata": {},
          "execution_count": 86
        }
      ]
    },
    {
      "cell_type": "code",
      "source": [
        "# Convert to tuple\n",
        "\n",
        "tuple([4,5,6])"
      ],
      "metadata": {
        "colab": {
          "base_uri": "https://localhost:8080/"
        },
        "id": "LjAppNRmlQsn",
        "outputId": "ae4ab674-83e1-4bb9-ba00-08d00a548ae4"
      },
      "execution_count": 87,
      "outputs": [
        {
          "output_type": "execute_result",
          "data": {
            "text/plain": [
              "(4, 5, 6)"
            ]
          },
          "metadata": {},
          "execution_count": 87
        }
      ]
    },
    {
      "cell_type": "code",
      "source": [
        "# Check the data type for list to tuple conversion\n",
        "\n",
        "type(tuple([4,56]))"
      ],
      "metadata": {
        "colab": {
          "base_uri": "https://localhost:8080/"
        },
        "id": "zCdPM1lOmXZy",
        "outputId": "5ae9d699-5a34-48b0-96cf-c731fd72abfd"
      },
      "execution_count": 90,
      "outputs": [
        {
          "output_type": "execute_result",
          "data": {
            "text/plain": [
              "tuple"
            ]
          },
          "metadata": {},
          "execution_count": 90
        }
      ]
    },
    {
      "cell_type": "markdown",
      "source": [
        "\n",
        "\n",
        "---\n",
        "\n",
        "\n",
        "### **Convert set to tuple (immutable)**\n",
        "\n",
        "---\n",
        "\n"
      ],
      "metadata": {
        "id": "VbR12zVRE0xC"
      }
    },
    {
      "cell_type": "code",
      "source": [
        "# input the set {4,5,6}\n",
        "\n",
        "{4,5,6}"
      ],
      "metadata": {
        "id": "lGiYytPTE24E"
      },
      "execution_count": null,
      "outputs": []
    },
    {
      "cell_type": "code",
      "source": [
        "# Check the data type\n",
        "\n",
        "type({4,5,6})"
      ],
      "metadata": {
        "colab": {
          "base_uri": "https://localhost:8080/"
        },
        "id": "sVYdKfDcFH5s",
        "outputId": "13d13ffb-a157-4d56-908a-376772c7bbda"
      },
      "execution_count": 126,
      "outputs": [
        {
          "output_type": "execute_result",
          "data": {
            "text/plain": [
              "set"
            ]
          },
          "metadata": {},
          "execution_count": 126
        }
      ]
    },
    {
      "cell_type": "code",
      "source": [
        "# Convert to tuple\n",
        "\n",
        "tuple({4,5,6})"
      ],
      "metadata": {
        "colab": {
          "base_uri": "https://localhost:8080/"
        },
        "id": "1TGlLOrYFOqP",
        "outputId": "71021525-476e-466e-b919-74a25c025cb6"
      },
      "execution_count": 127,
      "outputs": [
        {
          "output_type": "execute_result",
          "data": {
            "text/plain": [
              "(4, 5, 6)"
            ]
          },
          "metadata": {},
          "execution_count": 127
        }
      ]
    },
    {
      "cell_type": "code",
      "source": [
        "# Check the data type for set to tuple conversion\n",
        "\n",
        "type(tuple({4,5,6}))"
      ],
      "metadata": {
        "colab": {
          "base_uri": "https://localhost:8080/"
        },
        "id": "n2bchsahFUCM",
        "outputId": "8f003247-1109-4b4d-f505-69f1dd0e5a83"
      },
      "execution_count": 128,
      "outputs": [
        {
          "output_type": "execute_result",
          "data": {
            "text/plain": [
              "tuple"
            ]
          },
          "metadata": {},
          "execution_count": 128
        }
      ]
    },
    {
      "cell_type": "markdown",
      "source": [
        "\n",
        "\n",
        "---\n",
        "\n",
        "\n",
        "### **Convert dictionary to tuple (immutable)**\n",
        "\n",
        "---\n",
        "\n"
      ],
      "metadata": {
        "id": "fHhYUEJhFdN4"
      }
    },
    {
      "cell_type": "code",
      "source": [
        "# input the dictionary {'Job': \"Data Scientist\"}\n",
        "\n",
        "{'Job': \"Data Scientist\"}"
      ],
      "metadata": {
        "colab": {
          "base_uri": "https://localhost:8080/"
        },
        "id": "ecjIOa7yFfmB",
        "outputId": "3c9a5fde-a4b2-4e91-a947-2a5a2ad3ae79"
      },
      "execution_count": 166,
      "outputs": [
        {
          "output_type": "execute_result",
          "data": {
            "text/plain": [
              "{'Job': 'Data Scientist'}"
            ]
          },
          "metadata": {},
          "execution_count": 166
        }
      ]
    },
    {
      "cell_type": "code",
      "source": [
        "# Check the data type\n",
        "\n",
        "type({'Job': \"Data Scientist\"})"
      ],
      "metadata": {
        "colab": {
          "base_uri": "https://localhost:8080/"
        },
        "id": "N_M6fmzWF86H",
        "outputId": "9c2c96ca-66a1-4ead-8905-35a316af18d0"
      },
      "execution_count": 167,
      "outputs": [
        {
          "output_type": "execute_result",
          "data": {
            "text/plain": [
              "dict"
            ]
          },
          "metadata": {},
          "execution_count": 167
        }
      ]
    },
    {
      "cell_type": "code",
      "source": [
        "# Convert to tuple\n",
        "\n",
        "tuple({'Job': \"Data Scientist\"})\n",
        "\n",
        "# Dictionary contain key-value (only the key converted to tuple, the value will be empty)"
      ],
      "metadata": {
        "colab": {
          "base_uri": "https://localhost:8080/"
        },
        "id": "bP0HT_rTGE_X",
        "outputId": "34782a31-ae57-485d-b708-316812d285da"
      },
      "execution_count": 168,
      "outputs": [
        {
          "output_type": "execute_result",
          "data": {
            "text/plain": [
              "('Job',)"
            ]
          },
          "metadata": {},
          "execution_count": 168
        }
      ]
    },
    {
      "cell_type": "markdown",
      "source": [
        "\n",
        "\n",
        "---\n",
        "\n",
        "\n",
        "### **Convert integer to tuple**\n",
        "\n",
        "---\n",
        "\n"
      ],
      "metadata": {
        "id": "IKVctZT8Gs9e"
      }
    },
    {
      "cell_type": "code",
      "source": [
        "# Input the integer number 4\n",
        "\n",
        "4"
      ],
      "metadata": {
        "colab": {
          "base_uri": "https://localhost:8080/"
        },
        "id": "mUsTlrAuGw1m",
        "outputId": "6e367989-b87f-4274-c53b-9cc45093d06c"
      },
      "execution_count": 138,
      "outputs": [
        {
          "output_type": "execute_result",
          "data": {
            "text/plain": [
              "4"
            ]
          },
          "metadata": {},
          "execution_count": 138
        }
      ]
    },
    {
      "cell_type": "code",
      "source": [
        "# Check the data type\n",
        "\n",
        "type(4)"
      ],
      "metadata": {
        "colab": {
          "base_uri": "https://localhost:8080/"
        },
        "id": "jL9f4JHyG1u8",
        "outputId": "acfc1332-4347-438a-b04f-a3393fceeeca"
      },
      "execution_count": 139,
      "outputs": [
        {
          "output_type": "execute_result",
          "data": {
            "text/plain": [
              "int"
            ]
          },
          "metadata": {},
          "execution_count": 139
        }
      ]
    },
    {
      "cell_type": "code",
      "source": [
        "# Convert to tuple\n",
        "\n",
        "tuple(4)\n",
        "\n",
        "# The result will be an error because integer object is not iterable"
      ],
      "metadata": {
        "colab": {
          "base_uri": "https://localhost:8080/",
          "height": 235
        },
        "id": "9IRU2sXCG6Fe",
        "outputId": "435be29d-be46-4f0e-c8ad-b4d31782db42"
      },
      "execution_count": 141,
      "outputs": [
        {
          "output_type": "error",
          "ename": "TypeError",
          "evalue": "ignored",
          "traceback": [
            "\u001b[0;31m---------------------------------------------------------------------------\u001b[0m",
            "\u001b[0;31mTypeError\u001b[0m                                 Traceback (most recent call last)",
            "\u001b[0;32m<ipython-input-141-0665188eb38a>\u001b[0m in \u001b[0;36m<module>\u001b[0;34m()\u001b[0m\n\u001b[1;32m      1\u001b[0m \u001b[0;31m# Convert to tuple\u001b[0m\u001b[0;34m\u001b[0m\u001b[0;34m\u001b[0m\u001b[0;34m\u001b[0m\u001b[0m\n\u001b[1;32m      2\u001b[0m \u001b[0;34m\u001b[0m\u001b[0m\n\u001b[0;32m----> 3\u001b[0;31m \u001b[0mtuple\u001b[0m\u001b[0;34m(\u001b[0m\u001b[0;36m4\u001b[0m\u001b[0;34m)\u001b[0m\u001b[0;34m\u001b[0m\u001b[0;34m\u001b[0m\u001b[0m\n\u001b[0m\u001b[1;32m      4\u001b[0m \u001b[0;34m\u001b[0m\u001b[0m\n\u001b[1;32m      5\u001b[0m \u001b[0;31m# The result will be an error because float object is not iterable\u001b[0m\u001b[0;34m\u001b[0m\u001b[0;34m\u001b[0m\u001b[0;34m\u001b[0m\u001b[0m\n",
            "\u001b[0;31mTypeError\u001b[0m: 'int' object is not iterable"
          ]
        }
      ]
    },
    {
      "cell_type": "code",
      "source": [
        "# To convert integer to tuple we can insert the integer into parentheses (), but at least consist of 2 integer\n",
        "\n",
        "(4,5)\n"
      ],
      "metadata": {
        "colab": {
          "base_uri": "https://localhost:8080/"
        },
        "id": "EFS3PKG8MgMf",
        "outputId": "9d9f2f06-f517-4ac0-aea7-d3ea04d10a3e"
      },
      "execution_count": 156,
      "outputs": [
        {
          "output_type": "execute_result",
          "data": {
            "text/plain": [
              "(4, 5)"
            ]
          },
          "metadata": {},
          "execution_count": 156
        }
      ]
    },
    {
      "cell_type": "code",
      "source": [
        "# Check the data type\n",
        "\n",
        "type((4,5))"
      ],
      "metadata": {
        "colab": {
          "base_uri": "https://localhost:8080/"
        },
        "id": "xgMsHXYTMvrA",
        "outputId": "bd0df3da-ba8e-4712-872e-5c5aa91d3943"
      },
      "execution_count": 157,
      "outputs": [
        {
          "output_type": "execute_result",
          "data": {
            "text/plain": [
              "tuple"
            ]
          },
          "metadata": {},
          "execution_count": 157
        }
      ]
    },
    {
      "cell_type": "markdown",
      "source": [
        "\n",
        "\n",
        "---\n",
        "\n",
        "\n",
        "### **Convert float to tuple**\n",
        "\n",
        "---\n",
        "\n"
      ],
      "metadata": {
        "id": "Cj13Bi4MKOat"
      }
    },
    {
      "cell_type": "code",
      "source": [
        "# Input the float number 1.5\n",
        "\n",
        "1.5"
      ],
      "metadata": {
        "id": "pqNayCxIKQ5z"
      },
      "execution_count": null,
      "outputs": []
    },
    {
      "cell_type": "code",
      "source": [
        "# Check the data type\n",
        "\n",
        "type(1.5)"
      ],
      "metadata": {
        "colab": {
          "base_uri": "https://localhost:8080/"
        },
        "id": "zoQYrEepKTW9",
        "outputId": "27896045-228a-4d49-b978-454f4b6066a4"
      },
      "execution_count": 142,
      "outputs": [
        {
          "output_type": "execute_result",
          "data": {
            "text/plain": [
              "float"
            ]
          },
          "metadata": {},
          "execution_count": 142
        }
      ]
    },
    {
      "cell_type": "code",
      "source": [
        "# Convert to tuple\n",
        "\n",
        "tuple(1.5)\n",
        "\n",
        "# The result will be an error because float object is not iterable\n"
      ],
      "metadata": {
        "colab": {
          "base_uri": "https://localhost:8080/",
          "height": 200
        },
        "id": "27AB0N7jKV6g",
        "outputId": "21e91e9c-4177-4772-cab3-7e5f2b7707f2"
      },
      "execution_count": 143,
      "outputs": [
        {
          "output_type": "error",
          "ename": "TypeError",
          "evalue": "ignored",
          "traceback": [
            "\u001b[0;31m---------------------------------------------------------------------------\u001b[0m",
            "\u001b[0;31mTypeError\u001b[0m                                 Traceback (most recent call last)",
            "\u001b[0;32m<ipython-input-143-97652d50f38f>\u001b[0m in \u001b[0;36m<module>\u001b[0;34m()\u001b[0m\n\u001b[1;32m      1\u001b[0m \u001b[0;31m# Convert to tuple\u001b[0m\u001b[0;34m\u001b[0m\u001b[0;34m\u001b[0m\u001b[0;34m\u001b[0m\u001b[0m\n\u001b[1;32m      2\u001b[0m \u001b[0;34m\u001b[0m\u001b[0m\n\u001b[0;32m----> 3\u001b[0;31m \u001b[0mtuple\u001b[0m\u001b[0;34m(\u001b[0m\u001b[0;36m1.5\u001b[0m\u001b[0;34m)\u001b[0m\u001b[0;34m\u001b[0m\u001b[0;34m\u001b[0m\u001b[0m\n\u001b[0m",
            "\u001b[0;31mTypeError\u001b[0m: 'float' object is not iterable"
          ]
        }
      ]
    },
    {
      "cell_type": "code",
      "source": [
        "# To convert float to tuple we can insert the float into parentheses (), but at least consist of 2 floats\n",
        "\n",
        "(1.5, 2.5)"
      ],
      "metadata": {
        "colab": {
          "base_uri": "https://localhost:8080/"
        },
        "id": "TfHnhrANLuwv",
        "outputId": "c2e8ee06-d6d2-42cb-bba4-cb856a7a2c5a"
      },
      "execution_count": 151,
      "outputs": [
        {
          "output_type": "execute_result",
          "data": {
            "text/plain": [
              "(1.5, 2.5)"
            ]
          },
          "metadata": {},
          "execution_count": 151
        }
      ]
    },
    {
      "cell_type": "code",
      "source": [
        "# Check the data type\n",
        "\n",
        "type((1.5, 2.5))"
      ],
      "metadata": {
        "colab": {
          "base_uri": "https://localhost:8080/"
        },
        "id": "5asv4T4ZLxY9",
        "outputId": "b6562b0e-78fc-436d-f8be-27212f271054"
      },
      "execution_count": 152,
      "outputs": [
        {
          "output_type": "execute_result",
          "data": {
            "text/plain": [
              "tuple"
            ]
          },
          "metadata": {},
          "execution_count": 152
        }
      ]
    },
    {
      "cell_type": "markdown",
      "source": [
        "\n",
        "\n",
        "---\n",
        "\n",
        "\n",
        "### **Convert string to tuple**\n",
        "\n",
        "\n",
        "---\n",
        "\n"
      ],
      "metadata": {
        "id": "knw5DX5mLLF6"
      }
    },
    {
      "cell_type": "code",
      "source": [
        "# Input the string 'Data Science'\n",
        "\n",
        "'Data Science'"
      ],
      "metadata": {
        "colab": {
          "base_uri": "https://localhost:8080/",
          "height": 36
        },
        "id": "9VyBqTL2LOmA",
        "outputId": "046f63b4-19e0-494c-d6c6-36b599d1c13d"
      },
      "execution_count": 159,
      "outputs": [
        {
          "output_type": "execute_result",
          "data": {
            "text/plain": [
              "'Data Science'"
            ],
            "application/vnd.google.colaboratory.intrinsic+json": {
              "type": "string"
            }
          },
          "metadata": {},
          "execution_count": 159
        }
      ]
    },
    {
      "cell_type": "code",
      "source": [
        "# Check the data type\n",
        "\n",
        "type('Data Science')"
      ],
      "metadata": {
        "colab": {
          "base_uri": "https://localhost:8080/"
        },
        "id": "YpFO45SdZ9NO",
        "outputId": "59b8462d-9a81-4556-b9d4-701a3ea8dfe5"
      },
      "execution_count": 158,
      "outputs": [
        {
          "output_type": "execute_result",
          "data": {
            "text/plain": [
              "str"
            ]
          },
          "metadata": {},
          "execution_count": 158
        }
      ]
    },
    {
      "cell_type": "code",
      "source": [
        "# Convert to tuple\n",
        "\n",
        "tuple('Data Science')\n",
        "\n",
        "# String elements will be broken down into per character"
      ],
      "metadata": {
        "colab": {
          "base_uri": "https://localhost:8080/"
        },
        "id": "CSvhOLv_aBHA",
        "outputId": "63482b17-98da-43e3-a85f-bec49d09388c"
      },
      "execution_count": 160,
      "outputs": [
        {
          "output_type": "execute_result",
          "data": {
            "text/plain": [
              "('D', 'a', 't', 'a', ' ', 'S', 'c', 'i', 'e', 'n', 'c', 'e')"
            ]
          },
          "metadata": {},
          "execution_count": 160
        }
      ]
    },
    {
      "cell_type": "markdown",
      "source": [
        "---\n",
        "## **set()**\n",
        "---\n",
        "\n",
        "### *Convert to set*"
      ],
      "metadata": {
        "id": "h-Mfe2cAc7f-"
      }
    },
    {
      "cell_type": "markdown",
      "source": [
        "\n",
        "\n",
        "---\n",
        "\n",
        "\n",
        "### **Convert list to set**\n",
        "\n",
        "\n",
        "---\n",
        "\n"
      ],
      "metadata": {
        "id": "qf-QS4HMlfC7"
      }
    },
    {
      "cell_type": "code",
      "source": [
        "# Input the list [4,5,6]\n",
        "\n",
        "[4,5,6]"
      ],
      "metadata": {
        "colab": {
          "base_uri": "https://localhost:8080/"
        },
        "id": "3RFLQwwUlkbL",
        "outputId": "80ed9d80-7b08-491c-a7b9-6ed82aebc9b9"
      },
      "execution_count": 91,
      "outputs": [
        {
          "output_type": "execute_result",
          "data": {
            "text/plain": [
              "[4, 5, 6]"
            ]
          },
          "metadata": {},
          "execution_count": 91
        }
      ]
    },
    {
      "cell_type": "code",
      "source": [
        "# Check the data type\n",
        "\n",
        "type([4,5,6])"
      ],
      "metadata": {
        "colab": {
          "base_uri": "https://localhost:8080/"
        },
        "id": "OK3Bw-vQmvjb",
        "outputId": "4cee3362-d14d-42e0-836b-a9fd114eecc1"
      },
      "execution_count": 92,
      "outputs": [
        {
          "output_type": "execute_result",
          "data": {
            "text/plain": [
              "list"
            ]
          },
          "metadata": {},
          "execution_count": 92
        }
      ]
    },
    {
      "cell_type": "code",
      "source": [
        "# Convert to set\n",
        "\n",
        "set([4,5,6])"
      ],
      "metadata": {
        "colab": {
          "base_uri": "https://localhost:8080/"
        },
        "id": "ADXL1D2rmzzr",
        "outputId": "07e2969f-8f42-477c-e180-393b9b8e7584"
      },
      "execution_count": 93,
      "outputs": [
        {
          "output_type": "execute_result",
          "data": {
            "text/plain": [
              "{4, 5, 6}"
            ]
          },
          "metadata": {},
          "execution_count": 93
        }
      ]
    },
    {
      "cell_type": "code",
      "source": [
        "# Check the data type for list to set conversion\n",
        "\n",
        "type(set([4,5,6]))"
      ],
      "metadata": {
        "colab": {
          "base_uri": "https://localhost:8080/"
        },
        "id": "kTBF2ohPm_vC",
        "outputId": "c3fd395b-f208-4700-a197-b95fd1cc95e0"
      },
      "execution_count": 94,
      "outputs": [
        {
          "output_type": "execute_result",
          "data": {
            "text/plain": [
              "set"
            ]
          },
          "metadata": {},
          "execution_count": 94
        }
      ]
    },
    {
      "cell_type": "markdown",
      "source": [
        "\n",
        "\n",
        "---\n",
        "\n",
        "\n",
        "### **Convert tuple to set**\n",
        "\n",
        "\n",
        "---\n",
        "\n"
      ],
      "metadata": {
        "id": "SAS7MeFidNun"
      }
    },
    {
      "cell_type": "code",
      "source": [
        "# Input the tuple {4,5,6}\n",
        "\n",
        "{4,5,6}"
      ],
      "metadata": {
        "colab": {
          "base_uri": "https://localhost:8080/"
        },
        "id": "aWMjTl5ndQfi",
        "outputId": "6d926b68-207f-49dc-c36c-a758f9748db7"
      },
      "execution_count": 161,
      "outputs": [
        {
          "output_type": "execute_result",
          "data": {
            "text/plain": [
              "{4, 5, 6}"
            ]
          },
          "metadata": {},
          "execution_count": 161
        }
      ]
    },
    {
      "cell_type": "code",
      "source": [
        "# Check the data type\n",
        "\n",
        "type({4,5,6})"
      ],
      "metadata": {
        "colab": {
          "base_uri": "https://localhost:8080/"
        },
        "id": "1792tbsmdVJa",
        "outputId": "363d54ee-4f8d-4059-a192-eff836ef2813"
      },
      "execution_count": 162,
      "outputs": [
        {
          "output_type": "execute_result",
          "data": {
            "text/plain": [
              "set"
            ]
          },
          "metadata": {},
          "execution_count": 162
        }
      ]
    },
    {
      "cell_type": "code",
      "source": [
        "# Convert to set\n",
        "\n",
        "set({4,5,6})"
      ],
      "metadata": {
        "colab": {
          "base_uri": "https://localhost:8080/"
        },
        "id": "KcifWB4SdbIX",
        "outputId": "3c984236-bfb4-43eb-f156-b9c55eedf894"
      },
      "execution_count": 163,
      "outputs": [
        {
          "output_type": "execute_result",
          "data": {
            "text/plain": [
              "{4, 5, 6}"
            ]
          },
          "metadata": {},
          "execution_count": 163
        }
      ]
    },
    {
      "cell_type": "code",
      "source": [
        "# Check the data type for tuple to set conversion\n",
        "\n",
        "type({4,5,6})\n",
        "\n"
      ],
      "metadata": {
        "colab": {
          "base_uri": "https://localhost:8080/"
        },
        "id": "ND_efE6bdgWx",
        "outputId": "511ff5b6-d01b-46e7-ac24-a8a3244a291f"
      },
      "execution_count": 164,
      "outputs": [
        {
          "output_type": "execute_result",
          "data": {
            "text/plain": [
              "set"
            ]
          },
          "metadata": {},
          "execution_count": 164
        }
      ]
    },
    {
      "cell_type": "markdown",
      "source": [
        "\n",
        "\n",
        "---\n",
        "\n",
        "\n",
        "### **Convert dictionary to set**\n",
        "\n",
        "\n",
        "---\n",
        "\n"
      ],
      "metadata": {
        "id": "dwAuX8Sfdus8"
      }
    },
    {
      "cell_type": "code",
      "source": [
        "# Input the dictionary {'Job': \"Data Scientist\"}\n",
        "\n",
        "{'Job': \"Data Scientist\"}"
      ],
      "metadata": {
        "colab": {
          "base_uri": "https://localhost:8080/"
        },
        "id": "OT40OiDXd3qD",
        "outputId": "c6d58a18-6544-4d63-a3ad-1a5f3ace47f9"
      },
      "execution_count": 169,
      "outputs": [
        {
          "output_type": "execute_result",
          "data": {
            "text/plain": [
              "{'Job': 'Data Scientist'}"
            ]
          },
          "metadata": {},
          "execution_count": 169
        }
      ]
    },
    {
      "cell_type": "code",
      "source": [
        "# Check the data type\n",
        "\n",
        "type({'Job': \"Data Scientist\"})"
      ],
      "metadata": {
        "colab": {
          "base_uri": "https://localhost:8080/"
        },
        "id": "exV2yT6reZX4",
        "outputId": "f46d0ce8-01e8-4315-f1e4-a2e51596a750"
      },
      "execution_count": 170,
      "outputs": [
        {
          "output_type": "execute_result",
          "data": {
            "text/plain": [
              "dict"
            ]
          },
          "metadata": {},
          "execution_count": 170
        }
      ]
    },
    {
      "cell_type": "code",
      "source": [
        "# Convert to set\n",
        "\n",
        "set({'Job': \"Data Scientist\"})\n",
        "\n",
        "# Dictionary contains key-value (only the key converted to list)"
      ],
      "metadata": {
        "colab": {
          "base_uri": "https://localhost:8080/"
        },
        "id": "8UVI1MJseiJz",
        "outputId": "0f7b9203-756d-48d6-ff66-cadbe4244846"
      },
      "execution_count": 171,
      "outputs": [
        {
          "output_type": "execute_result",
          "data": {
            "text/plain": [
              "{'Job'}"
            ]
          },
          "metadata": {},
          "execution_count": 171
        }
      ]
    },
    {
      "cell_type": "markdown",
      "source": [
        "---\n",
        "## **dictionary()**\n",
        "---\n",
        "\n",
        "### *Convert to dictionary*"
      ],
      "metadata": {
        "id": "z9OYwhOUfBf7"
      }
    },
    {
      "cell_type": "markdown",
      "source": [
        "#### For conversion to a dictionary, the data must meet the to-value requirements. Here are two example conversions:\n",
        "\n",
        "\n",
        "* #### List of several Lists that contain value pairs into a dictionary\n",
        "* #### As well as List conversion of multiple Tuples that contain value pairs into a dictionary"
      ],
      "metadata": {
        "id": "3l9I1NEtnW_z"
      }
    },
    {
      "cell_type": "markdown",
      "source": [
        "\n",
        "\n",
        "---\n",
        "\n",
        "\n",
        "### **Convert list to dictionary**\n",
        "\n",
        "\n",
        "---\n",
        "\n"
      ],
      "metadata": {
        "id": "uKifMTpjnGyc"
      }
    },
    {
      "cell_type": "code",
      "source": [
        "# Input the list cointain value pairs [[4,5],[6,7]]\n",
        "\n",
        "[[4,5],[6,7]]"
      ],
      "metadata": {
        "colab": {
          "base_uri": "https://localhost:8080/"
        },
        "id": "j-j0bF_5nOLf",
        "outputId": "a69a2929-f896-48d8-a4c5-ddf39bd9b204"
      },
      "execution_count": 97,
      "outputs": [
        {
          "output_type": "execute_result",
          "data": {
            "text/plain": [
              "[[4, 5], [6, 7]]"
            ]
          },
          "metadata": {},
          "execution_count": 97
        }
      ]
    },
    {
      "cell_type": "code",
      "source": [
        "# Check the data type\n",
        "\n",
        "type([[4,5],[6,7]])"
      ],
      "metadata": {
        "colab": {
          "base_uri": "https://localhost:8080/"
        },
        "id": "EGmmh5sC7T-4",
        "outputId": "98751dd6-0011-472f-9f03-a6bdb171eb28"
      },
      "execution_count": 96,
      "outputs": [
        {
          "output_type": "execute_result",
          "data": {
            "text/plain": [
              "list"
            ]
          },
          "metadata": {},
          "execution_count": 96
        }
      ]
    },
    {
      "cell_type": "code",
      "source": [
        "# Convert to dictionary\n",
        "\n",
        "dict([[4,5],[6,7]])"
      ],
      "metadata": {
        "colab": {
          "base_uri": "https://localhost:8080/"
        },
        "id": "lsPEcKdM7eBj",
        "outputId": "b4197dac-23ee-4494-ddc6-eef0418fa327"
      },
      "execution_count": 98,
      "outputs": [
        {
          "output_type": "execute_result",
          "data": {
            "text/plain": [
              "{4: 5, 6: 7}"
            ]
          },
          "metadata": {},
          "execution_count": 98
        }
      ]
    },
    {
      "cell_type": "code",
      "source": [
        "# Check the data type for list to dictionary conversion\n",
        "\n",
        "type(dict([[4,5],[6,7]]))"
      ],
      "metadata": {
        "colab": {
          "base_uri": "https://localhost:8080/"
        },
        "id": "AAPO8fVm7lTN",
        "outputId": "20e9d2f1-5d75-4d8d-f11a-a9901e076e97"
      },
      "execution_count": 99,
      "outputs": [
        {
          "output_type": "execute_result",
          "data": {
            "text/plain": [
              "dict"
            ]
          },
          "metadata": {},
          "execution_count": 99
        }
      ]
    },
    {
      "cell_type": "markdown",
      "source": [
        "\n",
        "\n",
        "---\n",
        "\n",
        "\n",
        "### **Convert tuple to dictionary**\n",
        "\n",
        "\n",
        "---\n",
        "\n"
      ],
      "metadata": {
        "id": "K5Gp6SOm75pz"
      }
    },
    {
      "cell_type": "code",
      "source": [
        "# Input the tuple (('Job','Data Scientist'),('Salary','$ 10,000'))\n",
        "\n",
        "((4,5),(6,7))"
      ],
      "metadata": {
        "id": "PHRVcglhgcM5"
      },
      "execution_count": null,
      "outputs": []
    },
    {
      "cell_type": "code",
      "source": [
        "# Check the data type\n",
        "\n",
        "type(((4,5),(6,7))\n",
        ")"
      ],
      "metadata": {
        "colab": {
          "base_uri": "https://localhost:8080/"
        },
        "id": "BaM1o9rDhBMC",
        "outputId": "55e2721d-b65a-4e45-d50c-c5cbb62ded80"
      },
      "execution_count": 173,
      "outputs": [
        {
          "output_type": "execute_result",
          "data": {
            "text/plain": [
              "tuple"
            ]
          },
          "metadata": {},
          "execution_count": 173
        }
      ]
    },
    {
      "cell_type": "code",
      "source": [
        "# Convert to dictionary\n",
        "\n",
        "dict((('Job','Data Scientist'),('Salary','$ 10,000')))"
      ],
      "metadata": {
        "colab": {
          "base_uri": "https://localhost:8080/"
        },
        "id": "kk91DKbahFID",
        "outputId": "a9ac271c-61dc-4cf2-abaa-be8af070f6b8"
      },
      "execution_count": 177,
      "outputs": [
        {
          "output_type": "execute_result",
          "data": {
            "text/plain": [
              "{'Job': 'Data Scientist', 'Salary': '$ 10,000'}"
            ]
          },
          "metadata": {},
          "execution_count": 177
        }
      ]
    },
    {
      "cell_type": "code",
      "source": [
        "# Check the data type for tuple to dictionary conversion\n",
        "\n",
        "type(dict((('Job','Data Scientist'),('Salary','$ 10,000'))))"
      ],
      "metadata": {
        "colab": {
          "base_uri": "https://localhost:8080/"
        },
        "id": "ae30gbjohh-g",
        "outputId": "3ce912e1-65ad-4d61-ff92-55b7685e7b06"
      },
      "execution_count": 179,
      "outputs": [
        {
          "output_type": "execute_result",
          "data": {
            "text/plain": [
              "dict"
            ]
          },
          "metadata": {},
          "execution_count": 179
        }
      ]
    },
    {
      "cell_type": "markdown",
      "source": [
        "\n",
        "\n",
        "---\n",
        "\n",
        "\n",
        "### **Convert set to dictionary**\n",
        "\n",
        "---\n",
        "\n"
      ],
      "metadata": {
        "id": "5SgDUIPz7_ez"
      }
    },
    {
      "cell_type": "code",
      "source": [
        "# Input the set {('Job','Data Scientist'),('Salary','$ 10,000')}\n",
        "\n",
        "{('Job','Data Scientist'),('Salary','$ 10,000')}"
      ],
      "metadata": {
        "colab": {
          "base_uri": "https://localhost:8080/"
        },
        "id": "OUNuUUOs7-MV",
        "outputId": "970609d2-39c3-4c93-cb3e-7b9d6d63e003"
      },
      "execution_count": 183,
      "outputs": [
        {
          "output_type": "execute_result",
          "data": {
            "text/plain": [
              "{('Job', 'Data Scientist'), ('Salary', '$ 10,000')}"
            ]
          },
          "metadata": {},
          "execution_count": 183
        }
      ]
    },
    {
      "cell_type": "code",
      "source": [
        "# Check the data type\n",
        "\n",
        "type({('Job','Data Scientist'),('Salary','$ 10,000')})"
      ],
      "metadata": {
        "colab": {
          "base_uri": "https://localhost:8080/"
        },
        "id": "4qnlGZWOiox6",
        "outputId": "4e2b7caf-1373-4960-abb6-b7c182bc6487"
      },
      "execution_count": 184,
      "outputs": [
        {
          "output_type": "execute_result",
          "data": {
            "text/plain": [
              "set"
            ]
          },
          "metadata": {},
          "execution_count": 184
        }
      ]
    },
    {
      "cell_type": "code",
      "source": [
        "# Convert to dictionary\n",
        "\n",
        "dict({('Job','Data Scientist'),('Salary','$ 10,000')})"
      ],
      "metadata": {
        "colab": {
          "base_uri": "https://localhost:8080/"
        },
        "id": "LZHEZ0aTkoLQ",
        "outputId": "959ce960-10ba-4db2-e127-2f6634f35c07"
      },
      "execution_count": 185,
      "outputs": [
        {
          "output_type": "execute_result",
          "data": {
            "text/plain": [
              "{'Job': 'Data Scientist', 'Salary': '$ 10,000'}"
            ]
          },
          "metadata": {},
          "execution_count": 185
        }
      ]
    },
    {
      "cell_type": "code",
      "source": [
        "# Check the data type for set to dictionary conversion\n",
        "\n",
        "type(dict({('Job','Data Scientist'),('Salary','$ 10,000')}))"
      ],
      "metadata": {
        "colab": {
          "base_uri": "https://localhost:8080/"
        },
        "id": "uVffwIIArSSH",
        "outputId": "cee0abc9-2ef2-400c-8c01-d641762ed1a9"
      },
      "execution_count": 186,
      "outputs": [
        {
          "output_type": "execute_result",
          "data": {
            "text/plain": [
              "dict"
            ]
          },
          "metadata": {},
          "execution_count": 186
        }
      ]
    },
    {
      "cell_type": "markdown",
      "source": [
        "---\n",
        "## **Exercise 3**\n",
        "---\n",
        "\n",
        "* ### Create a list containing another list (list in list) about \"even numbers\" and examples and change to dictionary!\n",
        "\n",
        "* ### Create a tuple containing another tuple (tuple within a tuple) about \"odd numbers\" and examples (float)and convert to dictionary!\n",
        "\n",
        "* ### Make a string whose contents are the date of birth plus the month of birth and change to float\n"
      ],
      "metadata": {
        "id": "nrwhn5C1wt3M"
      }
    },
    {
      "cell_type": "markdown",
      "source": [
        "\n",
        "\n",
        "---\n",
        "\n",
        "* ### **Create a list containing another list (list in list) about \"even numbers\" and examples and change to dictionary!**\n",
        "\n",
        "---\n",
        "\n"
      ],
      "metadata": {
        "id": "vyqGlhdDxs4h"
      }
    },
    {
      "cell_type": "code",
      "source": [
        "# input the list containing another list (list in list)about 'even numbers' : [[\"even_1\", 16],[\"even_2\",20]]\n",
        "\n",
        "[[\"even_1\", 16],[\"even_2\",20]]"
      ],
      "metadata": {
        "colab": {
          "base_uri": "https://localhost:8080/"
        },
        "id": "MxO1vrCdxlav",
        "outputId": "434908eb-c1a3-4ef3-e68e-4150da72fccc"
      },
      "execution_count": 199,
      "outputs": [
        {
          "output_type": "execute_result",
          "data": {
            "text/plain": [
              "[['even_1', 16], ['even_2', 20]]"
            ]
          },
          "metadata": {},
          "execution_count": 199
        }
      ]
    },
    {
      "cell_type": "code",
      "source": [
        "# Check the data type\n",
        "\n",
        "type([[\"even_1\", 16],[\"even_2\",20]])"
      ],
      "metadata": {
        "colab": {
          "base_uri": "https://localhost:8080/"
        },
        "id": "1pNrHS85yN8h",
        "outputId": "8c0da112-718e-40a7-eddd-9d0798bacc14"
      },
      "execution_count": 200,
      "outputs": [
        {
          "output_type": "execute_result",
          "data": {
            "text/plain": [
              "list"
            ]
          },
          "metadata": {},
          "execution_count": 200
        }
      ]
    },
    {
      "cell_type": "code",
      "source": [
        "# Convert to dictionary\n",
        "\n",
        "dict([[\"even_1\", 16],[\"even_2\",20]])"
      ],
      "metadata": {
        "colab": {
          "base_uri": "https://localhost:8080/"
        },
        "id": "J3krLniNyRDP",
        "outputId": "189d47ac-e739-46bc-d0ac-099567fe9671"
      },
      "execution_count": 201,
      "outputs": [
        {
          "output_type": "execute_result",
          "data": {
            "text/plain": [
              "{'even_1': 16, 'even_2': 20}"
            ]
          },
          "metadata": {},
          "execution_count": 201
        }
      ]
    },
    {
      "cell_type": "code",
      "source": [
        "# Check the data type for list to dictionary conversion"
      ],
      "metadata": {
        "id": "5WTH8hiZyejL"
      },
      "execution_count": null,
      "outputs": []
    },
    {
      "cell_type": "markdown",
      "source": [
        "\n",
        "\n",
        "---\n",
        "\n",
        "* ### **Create a tuple containing another tuple (tuple within a tuple) about \"odd numbers\" and examples (float)and convert to dictionary!**\n",
        "\n",
        "---\n",
        "\n"
      ],
      "metadata": {
        "id": "7WoBySzpymCb"
      }
    },
    {
      "cell_type": "code",
      "source": [
        "# Input the tuple containing another tuple (tuple within a tuple) about odd numbers: (('odd_1',17),('odd_2',21))\n",
        "\n",
        "(('odd_1',17),('odd_2',21))"
      ],
      "metadata": {
        "colab": {
          "base_uri": "https://localhost:8080/"
        },
        "id": "ngQETAUcyjDS",
        "outputId": "c8945e4f-864c-47bb-ed4b-42b99d968288"
      },
      "execution_count": 202,
      "outputs": [
        {
          "output_type": "execute_result",
          "data": {
            "text/plain": [
              "(('odd_1', 17), ('odd_2', 21))"
            ]
          },
          "metadata": {},
          "execution_count": 202
        }
      ]
    },
    {
      "cell_type": "code",
      "source": [
        "# Check the data type\n",
        "\n",
        "type((('odd_1',17),('odd_2',21)))"
      ],
      "metadata": {
        "colab": {
          "base_uri": "https://localhost:8080/"
        },
        "id": "zfttD3xzzFu2",
        "outputId": "39723f33-98eb-444b-81d3-7597a84256ca"
      },
      "execution_count": 203,
      "outputs": [
        {
          "output_type": "execute_result",
          "data": {
            "text/plain": [
              "tuple"
            ]
          },
          "metadata": {},
          "execution_count": 203
        }
      ]
    },
    {
      "cell_type": "code",
      "source": [
        "# Convert to dictionary\n",
        "\n",
        "dict((('odd_1',17),('odd_2',21)))"
      ],
      "metadata": {
        "colab": {
          "base_uri": "https://localhost:8080/"
        },
        "id": "-TlMIUlwzMQh",
        "outputId": "ed4526de-7882-4730-d313-c208debae118"
      },
      "execution_count": 204,
      "outputs": [
        {
          "output_type": "execute_result",
          "data": {
            "text/plain": [
              "{'odd_1': 17, 'odd_2': 21}"
            ]
          },
          "metadata": {},
          "execution_count": 204
        }
      ]
    },
    {
      "cell_type": "code",
      "source": [
        "# Check the data type for tuple to dictionary\n",
        "\n",
        "type(dict((('odd_1',17),('odd_2',21))))"
      ],
      "metadata": {
        "colab": {
          "base_uri": "https://localhost:8080/"
        },
        "id": "FBgrQ3DAzPbM",
        "outputId": "2813b8b1-2b22-4b4e-cd9b-2730486f9e0d"
      },
      "execution_count": 205,
      "outputs": [
        {
          "output_type": "execute_result",
          "data": {
            "text/plain": [
              "dict"
            ]
          },
          "metadata": {},
          "execution_count": 205
        }
      ]
    },
    {
      "cell_type": "markdown",
      "source": [
        "\n",
        "\n",
        "---\n",
        "\n",
        "* ### **Make a string whose contents are the date of birth plus the month of birth and change to float**\n",
        "\n",
        "---\n",
        "\n"
      ],
      "metadata": {
        "id": "dPIk2iBDzccg"
      }
    },
    {
      "cell_type": "code",
      "source": [
        "# Input the string whose contents are the date of birth + the month of birth : '30.0+1.0'\n",
        "\n",
        "'30.0+1.0'"
      ],
      "metadata": {
        "colab": {
          "base_uri": "https://localhost:8080/",
          "height": 36
        },
        "id": "4gd4RUqjziLp",
        "outputId": "e16c08c6-3029-4e9f-f98d-42a4dfeebfde"
      },
      "execution_count": 206,
      "outputs": [
        {
          "output_type": "execute_result",
          "data": {
            "text/plain": [
              "'30 + 1'"
            ],
            "application/vnd.google.colaboratory.intrinsic+json": {
              "type": "string"
            }
          },
          "metadata": {},
          "execution_count": 206
        }
      ]
    },
    {
      "cell_type": "code",
      "source": [
        "# Check the data type\n",
        "\n",
        "type('30.0+1.0')"
      ],
      "metadata": {
        "colab": {
          "base_uri": "https://localhost:8080/"
        },
        "id": "1A_0rEKiztpI",
        "outputId": "aca35237-e3fb-4ad3-c4e3-8c6cb59199cd"
      },
      "execution_count": 208,
      "outputs": [
        {
          "output_type": "execute_result",
          "data": {
            "text/plain": [
              "str"
            ]
          },
          "metadata": {},
          "execution_count": 208
        }
      ]
    },
    {
      "cell_type": "code",
      "source": [
        "# Convert to float\n",
        "\n",
        "eval('30.0+1.0')"
      ],
      "metadata": {
        "colab": {
          "base_uri": "https://localhost:8080/"
        },
        "id": "rjzFtIGyz016",
        "outputId": "113a1589-b2b5-4800-c862-e73df70ae9b2"
      },
      "execution_count": 209,
      "outputs": [
        {
          "output_type": "execute_result",
          "data": {
            "text/plain": [
              "31.0"
            ]
          },
          "metadata": {},
          "execution_count": 209
        }
      ]
    },
    {
      "cell_type": "code",
      "source": [
        "# Check the data type for string to float conversion"
      ],
      "metadata": {
        "id": "_xjnb0hv0M3y"
      },
      "execution_count": 210,
      "outputs": []
    }
  ]
}