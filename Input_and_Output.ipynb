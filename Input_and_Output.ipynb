{
  "cells": [
    {
      "cell_type": "markdown",
      "source": [
        "\n",
        "\n",
        "---\n",
        "# **Input and Output in Python**\n",
        "\n",
        "\n",
        "---\n",
        "\n"
      ],
      "metadata": {
        "id": "J8KR9YL3FijO"
      }
    },
    {
      "cell_type": "markdown",
      "metadata": {
        "id": "nHdDRoKPkRS-"
      },
      "source": [
        "\n",
        "\n",
        "---\n",
        "## **Variable**\n",
        "\n",
        "\n",
        "---\n",
        "\n",
        "\n",
        "### A variable is a place (in computer memory) to store certain data type values. To assign a value to a variable, we use the \"=\" operator between the variable name and the value we want to store.\n",
        "\n",
        "\n",
        "\n"
      ]
    },
    {
      "cell_type": "code",
      "execution_count": 11,
      "metadata": {
        "id": "Aa_umIm8kKOD"
      },
      "outputs": [],
      "source": [
        "# Store the integer data 3 to the variable a\n",
        "\n",
        "a = 3"
      ]
    },
    {
      "cell_type": "code",
      "source": [
        "# Store the float data 2.75 to the variable float\n",
        "\n",
        "float = 2.75"
      ],
      "metadata": {
        "id": "t90l03hKHEYG"
      },
      "execution_count": 4,
      "outputs": []
    },
    {
      "cell_type": "code",
      "source": [
        "# Store the string 'Data Science' to the variable b\n",
        "\n",
        "b = 'Data Science'"
      ],
      "metadata": {
        "id": "BpVGHqP8G26T"
      },
      "execution_count": 3,
      "outputs": []
    },
    {
      "cell_type": "code",
      "source": [
        "# Store the list data [1,3,5,7,9] to the variable odd\n",
        "\n",
        "odd = [1,3,5,7,9]"
      ],
      "metadata": {
        "id": "1KlV5ot1HS5b"
      },
      "execution_count": 5,
      "outputs": []
    },
    {
      "cell_type": "code",
      "source": [
        "# Store the tuple data ('Data Engineer', 'Data Scientist', 'Data Analyst') to the variable job\n",
        "\n",
        "job = ('Data Engineer', 'Data Scientist', 'Data Analyst')"
      ],
      "metadata": {
        "id": "TqZ9t5XgHgsx"
      },
      "execution_count": 6,
      "outputs": []
    },
    {
      "cell_type": "code",
      "source": [
        "# Store the set data {2,4,6,8,10} to the variable even\n",
        "\n",
        "even = {2,4,6,8,10}"
      ],
      "metadata": {
        "id": "qLTd78RhH8S0"
      },
      "execution_count": 7,
      "outputs": []
    },
    {
      "cell_type": "code",
      "source": [
        "# Store the dictionary data {'Name': 'Trianto Haryo Nugroho', 'City': 'Bogor', 'Major': 'Actuarial Science'} to the variable profile\n",
        "\n",
        "profile = {'Name': 'Trianto Haryo Nugroho', 'City': 'Bogor', 'Major': 'Actuarial Science'}\n"
      ],
      "metadata": {
        "id": "A3MMpMn-IPh5"
      },
      "execution_count": 10,
      "outputs": []
    },
    {
      "cell_type": "markdown",
      "metadata": {
        "id": "DOgoahVukr_P"
      },
      "source": [
        "\n",
        "\n",
        "---\n",
        "\n",
        "## **Print()**\n",
        "\n",
        "---\n",
        "### The print() function is the direct way of output to the console/screen.\n"
      ]
    },
    {
      "cell_type": "code",
      "source": [
        "# Print the integer output 99\n",
        "\n",
        "print(99)"
      ],
      "metadata": {
        "colab": {
          "base_uri": "https://localhost:8080/"
        },
        "id": "2zysM3_xLnzX",
        "outputId": "fe253791-4d68-4b27-886b-b1f921c383b0"
      },
      "execution_count": 16,
      "outputs": [
        {
          "output_type": "stream",
          "name": "stdout",
          "text": [
            "99\n"
          ]
        }
      ]
    },
    {
      "cell_type": "code",
      "source": [
        "# Print the float output 2.75\n",
        "\n",
        "print(2.75)"
      ],
      "metadata": {
        "colab": {
          "base_uri": "https://localhost:8080/"
        },
        "id": "jU3pb2_BLhM3",
        "outputId": "e92a7c1b-2fa0-4644-bb2d-9264aa3c10ab"
      },
      "execution_count": 15,
      "outputs": [
        {
          "output_type": "stream",
          "name": "stdout",
          "text": [
            "2.75\n"
          ]
        }
      ]
    },
    {
      "cell_type": "code",
      "execution_count": 12,
      "metadata": {
        "colab": {
          "base_uri": "https://localhost:8080/"
        },
        "id": "exmpQaXUkn7Z",
        "outputId": "94268ae0-6c22-4f03-b2a4-952153d87a7f"
      },
      "outputs": [
        {
          "output_type": "stream",
          "name": "stdout",
          "text": [
            "How are you?\n"
          ]
        }
      ],
      "source": [
        "# Print the string output 'How are you?'\n",
        "\n",
        "print('How are you?')"
      ]
    },
    {
      "cell_type": "code",
      "source": [
        "# Print the list output [2,4,6,8,10]\n",
        "\n",
        "print([2,4,6,8,10])"
      ],
      "metadata": {
        "colab": {
          "base_uri": "https://localhost:8080/"
        },
        "id": "lbX70RNhLOcL",
        "outputId": "e7b8ac2e-bb13-4c3a-fa0e-5bdf4545d76a"
      },
      "execution_count": 14,
      "outputs": [
        {
          "output_type": "stream",
          "name": "stdout",
          "text": [
            "[2, 4, 6, 8, 10]\n"
          ]
        }
      ]
    },
    {
      "cell_type": "code",
      "source": [
        "# Print the tuple output (1,3,5,7,9)\n",
        "\n",
        "print((1,3,5,7,9))"
      ],
      "metadata": {
        "colab": {
          "base_uri": "https://localhost:8080/"
        },
        "id": "K3vgPLarL0nq",
        "outputId": "f1a04075-d7f8-47b9-9a3d-b6a39efadca9"
      },
      "execution_count": 17,
      "outputs": [
        {
          "output_type": "stream",
          "name": "stdout",
          "text": [
            "(1, 3, 5, 7, 9)\n"
          ]
        }
      ]
    },
    {
      "cell_type": "code",
      "source": [
        "# Print the set output {'apple', 'banana', 'orange'}\n",
        "\n",
        "print({'apple', 'banana', 'orange'})"
      ],
      "metadata": {
        "colab": {
          "base_uri": "https://localhost:8080/"
        },
        "id": "g1Caa86kL6UX",
        "outputId": "a2b29f67-12d4-4882-c8b6-73c98d5d8946"
      },
      "execution_count": 18,
      "outputs": [
        {
          "output_type": "stream",
          "name": "stdout",
          "text": [
            "{'banana', 'orange', 'apple'}\n"
          ]
        }
      ]
    },
    {
      "cell_type": "code",
      "source": [
        "# print the dictionary output {'Name': 'Trianto Haryo Nugroho', 'Grade': 'A', 'Score': 90}\n",
        "\n",
        "print({'Name': 'Trianto Haryo Nugroho', 'Grade': 'A+', 'Score': 95})"
      ],
      "metadata": {
        "colab": {
          "base_uri": "https://localhost:8080/"
        },
        "id": "wxGNZy8qMFB5",
        "outputId": "e7024788-01e6-48f1-8c38-6d3153f0af5d"
      },
      "execution_count": 20,
      "outputs": [
        {
          "output_type": "stream",
          "name": "stdout",
          "text": [
            "{'Name': 'Trianto Haryo Nugroho', 'Grade': 'A+', 'Score': 95}\n"
          ]
        }
      ]
    },
    {
      "cell_type": "markdown",
      "metadata": {
        "id": "f2TDgIxhk3TG"
      },
      "source": [
        "\n",
        "\n",
        "---\n",
        "## **Inserting variable values ​​in strings**\n",
        "\n",
        "---\n",
        "\n",
        "\n",
        "### Python has several ways to enter a variable value in a string. \n",
        "\n"
      ]
    },
    {
      "cell_type": "markdown",
      "source": [
        "\n",
        "\n",
        "---\n",
        "\n",
        "\n",
        "* ### Directly concatenate variables in a print () statement with this format:\n",
        "### *print(variable)*"
      ],
      "metadata": {
        "id": "dIUy8ljSWgfh"
      }
    },
    {
      "cell_type": "code",
      "execution_count": 27,
      "metadata": {
        "id": "sCuRWzbZlB7u"
      },
      "outputs": [],
      "source": [
        "# Store the string data 'Back Yi Jin' in the variable 'Name'\n",
        "\n",
        "name = 'Back Yi Jin'\n",
        "age = 25\n",
        "city = 'Seoul'"
      ]
    },
    {
      "cell_type": "code",
      "source": [
        "# Print the data of variable Name one by one\n",
        "\n",
        "print(name)\n",
        "print(age)\n",
        "print (city)"
      ],
      "metadata": {
        "colab": {
          "base_uri": "https://localhost:8080/"
        },
        "id": "Xi56iJ-jM-B1",
        "outputId": "6c043840-73ce-40a7-ec5f-add17b7b67ee"
      },
      "execution_count": 28,
      "outputs": [
        {
          "output_type": "stream",
          "name": "stdout",
          "text": [
            "Back Yi Jin\n",
            "25\n",
            "Seoul\n"
          ]
        }
      ]
    },
    {
      "cell_type": "markdown",
      "source": [
        "\n",
        "\n",
        "---\n",
        "\n",
        "* ### Print all of the data with the format:\n",
        "### *print(string statement, variable)*"
      ],
      "metadata": {
        "id": "IXd2DB94NFth"
      }
    },
    {
      "cell_type": "code",
      "source": [
        "# Store severals string data to its variable\n",
        "\n",
        "name = 'Back Yi Jin'\n",
        "age = 25\n",
        "city = 'Seoul'"
      ],
      "metadata": {
        "id": "3HY0pldIRQM6"
      },
      "execution_count": 34,
      "outputs": []
    },
    {
      "cell_type": "code",
      "source": [
        "# Print the data one by one with this formatting\n",
        "\n",
        "print('My name:',name)\n",
        "print('My age:',age)\n",
        "print('My city:',city)"
      ],
      "metadata": {
        "colab": {
          "base_uri": "https://localhost:8080/"
        },
        "id": "hKlrVxVCRWde",
        "outputId": "46b1d642-9745-48c2-b3c2-ecc16d4e5819"
      },
      "execution_count": 35,
      "outputs": [
        {
          "output_type": "stream",
          "name": "stdout",
          "text": [
            "My name: Back Yi Jin\n",
            "My age: 25\n",
            "My city: Seoul\n"
          ]
        }
      ]
    },
    {
      "cell_type": "markdown",
      "source": [
        "\n",
        "\n",
        "---\n",
        "\n",
        "\n",
        "* ### Print all of the data with the format:\n",
        "### *print(string statement 1, variable 1, string statement 2, variable 2, string statement 3, variable 3, etc)*"
      ],
      "metadata": {
        "id": "z8yKWGwXQOIk"
      }
    },
    {
      "cell_type": "code",
      "execution_count": null,
      "metadata": {
        "colab": {
          "background_save": true
        },
        "id": "eijcD6ztlGr9",
        "outputId": "ec651847-d844-4610-940b-f120b7117bf2"
      },
      "outputs": [
        {
          "data": {
            "text/plain": [
              "int"
            ]
          },
          "execution_count": null,
          "metadata": {},
          "output_type": "execute_result"
        }
      ],
      "source": [
        "# Store severals string data to its variable\n",
        "\n",
        "name = 'Back Yi Jin'\n",
        "age = 25\n",
        "city = 'Seoul'"
      ]
    },
    {
      "cell_type": "code",
      "source": [
        "# print all of the data with this format\n",
        "\n",
        "print('My name is',name,'\\nMy age is',age,'\\nI live in',city)"
      ],
      "metadata": {
        "colab": {
          "base_uri": "https://localhost:8080/"
        },
        "id": "dV7uk9JnN8Zm",
        "outputId": "dc3afd8a-82b3-4f5f-9ad3-80710d750fd6"
      },
      "execution_count": 33,
      "outputs": [
        {
          "output_type": "stream",
          "name": "stdout",
          "text": [
            "My name is Back Yi Jin \n",
            "My age is 25 \n",
            "I live in Seoul\n"
          ]
        }
      ]
    },
    {
      "cell_type": "markdown",
      "source": [
        "\n",
        "\n",
        "---\n",
        "\n",
        "\n",
        "* ### Print the data one by one with the format:\n",
        "### *print(string statement.format(variable))*"
      ],
      "metadata": {
        "id": "AAJJlmfMRwqr"
      }
    },
    {
      "cell_type": "code",
      "source": [
        "# Store severals string data to its variable\n",
        "\n",
        "name = 'Back Yi Jin'\n",
        "age = 25\n",
        "city = 'Seoul'"
      ],
      "metadata": {
        "id": "Ri1yqE8bSJzL"
      },
      "execution_count": 36,
      "outputs": []
    },
    {
      "cell_type": "code",
      "source": [
        "# print the data one by one with this format\n",
        "\n",
        "print('My name is {}'.format(name))\n",
        "print('My age is {}'.format(age))\n",
        "print('I live in {}'.format(city))"
      ],
      "metadata": {
        "colab": {
          "base_uri": "https://localhost:8080/"
        },
        "id": "SajtC7TVSKsV",
        "outputId": "b5c53d04-ecfa-49c7-aca0-37920a3e300f"
      },
      "execution_count": 38,
      "outputs": [
        {
          "output_type": "stream",
          "name": "stdout",
          "text": [
            "My name is Back Yi Jin\n",
            "My age is 25\n",
            "I live in Seoul\n"
          ]
        }
      ]
    },
    {
      "cell_type": "markdown",
      "source": [
        "\n",
        "\n",
        "---\n",
        "\n",
        "\n",
        "* ### Print the data one by one with the format:\n",
        "### *print(string statement 1 %(data type), string statement 2 %(data type), and string statement 3 %(data type)' % (variable 1,variable 2,variable 3)*\n",
        "\n",
        "* ### %d = integer\n",
        "* ### %f = float\n",
        "* ### %.2f = float with 2 decimal places\n",
        "* ### %s = string"
      ],
      "metadata": {
        "id": "W8RheFFXSqkv"
      }
    },
    {
      "cell_type": "code",
      "source": [
        "# Store severals string data to its variable\n",
        "\n",
        "name = 'Back Yi Jin'\n",
        "age = 25\n",
        "city = 'Seoul'"
      ],
      "metadata": {
        "id": "8wjuV313mohO"
      },
      "execution_count": 42,
      "outputs": []
    },
    {
      "cell_type": "code",
      "source": [
        "# print all of the data with this format\n",
        "\n",
        "print('My name is %s, my age is %d, and I live in %s' % (name,age,city))"
      ],
      "metadata": {
        "id": "AcV3L_lDmtsd",
        "colab": {
          "base_uri": "https://localhost:8080/"
        },
        "outputId": "48e518f4-6e2e-4424-f9e6-c3a0b640b968"
      },
      "execution_count": 43,
      "outputs": [
        {
          "output_type": "stream",
          "name": "stdout",
          "text": [
            "My name is Back Yi Jin, my age is 25, and I live in Seoul\n"
          ]
        }
      ]
    },
    {
      "cell_type": "code",
      "source": [
        "# print all of the data down with \\n\n",
        "\n",
        "print('My name is %s \\nMy age is %d \\nI live in %s' % (name,age,city))"
      ],
      "metadata": {
        "colab": {
          "base_uri": "https://localhost:8080/"
        },
        "id": "jHEmcaJJUh5K",
        "outputId": "47d64c3e-ad6d-4b9e-b697-82f86360ea67"
      },
      "execution_count": 45,
      "outputs": [
        {
          "output_type": "stream",
          "name": "stdout",
          "text": [
            "My name is Back Yi Jin \n",
            "My age is 25 \n",
            "I live in Seoul\n"
          ]
        }
      ]
    },
    {
      "cell_type": "markdown",
      "source": [
        "\n",
        "\n",
        "---\n",
        "\n",
        "\n",
        "* ### Store the data is the variable using input() and print the data one by one with the format:\n",
        "### *variable = input('string statement: ')*\n",
        "### *print(variable)\n",
        "\n",
        "### Input:\n",
        "#### To allow the user to provide input to your program, use the input() function, where the argument in brackets () is the text you want to display (the prompt) and the variable before the equal sign (=) is the resultant holder of the user's input. By default input is string.\n"
      ],
      "metadata": {
        "id": "ylUzJEYhnPw-"
      }
    },
    {
      "cell_type": "code",
      "source": [
        "# Store the data to the variable using input()\n",
        "\n",
        "name = input('My name: ')"
      ],
      "metadata": {
        "colab": {
          "base_uri": "https://localhost:8080/"
        },
        "id": "Es7fjU4mne9M",
        "outputId": "380d7784-2968-4a16-eaca-b01314c199e0"
      },
      "execution_count": 47,
      "outputs": [
        {
          "name": "stdout",
          "output_type": "stream",
          "text": [
            "My name: Back Yi Jin\n"
          ]
        }
      ]
    },
    {
      "cell_type": "code",
      "source": [
        "# Store the data to the variable using input()\n",
        "\n",
        "age = input('My age: ')"
      ],
      "metadata": {
        "colab": {
          "base_uri": "https://localhost:8080/"
        },
        "id": "p2js6Nv3nKBC",
        "outputId": "2db20c82-0e30-4b30-c6b4-0ca8961eea51"
      },
      "execution_count": 48,
      "outputs": [
        {
          "name": "stdout",
          "output_type": "stream",
          "text": [
            "My age: 25\n"
          ]
        }
      ]
    },
    {
      "cell_type": "code",
      "source": [
        "# Store the data to the variable using input()\n",
        "\n",
        "city = input('My city: ')"
      ],
      "metadata": {
        "colab": {
          "base_uri": "https://localhost:8080/"
        },
        "id": "cWi-WleVnusp",
        "outputId": "a6c24622-4bd9-4fce-e2f4-aa36b6c22b12"
      },
      "execution_count": 49,
      "outputs": [
        {
          "name": "stdout",
          "output_type": "stream",
          "text": [
            "My city: Seoul\n"
          ]
        }
      ]
    },
    {
      "cell_type": "markdown",
      "source": [
        "\n",
        "\n",
        "---\n",
        "\n",
        "\n",
        "* ### Directly print the data one by one with input() with the format:\n",
        "### *print(input('string statement: ')*\n"
      ],
      "metadata": {
        "id": "Jx7dGPGhYiCm"
      }
    },
    {
      "cell_type": "code",
      "source": [
        "# print all of the data the data directly with input()\n",
        "\n",
        "print(input('My name: '),input('My age: '), input('My city: '))"
      ],
      "metadata": {
        "colab": {
          "base_uri": "https://localhost:8080/"
        },
        "id": "_3nBTgFyZ8km",
        "outputId": "ab065f92-2d77-4dc8-f65d-9cd3894d69c6"
      },
      "execution_count": 56,
      "outputs": [
        {
          "output_type": "stream",
          "name": "stdout",
          "text": [
            "My name: Back Yi Jin\n",
            "My age: 25\n",
            "My city: Seoul\n",
            "Back Yi Jin 25 Seoul\n"
          ]
        }
      ]
    },
    {
      "cell_type": "markdown",
      "source": [
        "\n",
        "\n",
        "---\n",
        "## **Exercise**\n",
        "---\n",
        "### Store and print this data using all of the ways above!\n",
        "\n",
        "* #### My name (string)\n",
        "* #### My age (integer)\n",
        "* #### My height (float)\n",
        "\n"
      ],
      "metadata": {
        "id": "Ha7h7Fkzn_kE"
      }
    },
    {
      "cell_type": "markdown",
      "source": [
        "\n",
        "\n",
        "---\n",
        "\n"
      ],
      "metadata": {
        "id": "M6cSPSa2bIn2"
      }
    },
    {
      "cell_type": "code",
      "source": [
        "# Store severals string data to its variable\n",
        "\n",
        "name = 'Trianto Haryo Nugroho'\n",
        "age = 21\n",
        "height = 175.5"
      ],
      "metadata": {
        "id": "9zVLmgw6oLX5"
      },
      "execution_count": 57,
      "outputs": []
    },
    {
      "cell_type": "code",
      "source": [
        "# Print the data on by one using this format\n",
        "\n",
        "print(name)\n",
        "print(age)\n",
        "print(height)"
      ],
      "metadata": {
        "id": "jMBmE-9Woj8l",
        "colab": {
          "base_uri": "https://localhost:8080/"
        },
        "outputId": "bfc6f0f9-7a32-41f5-a094-15a5383825aa"
      },
      "execution_count": 58,
      "outputs": [
        {
          "output_type": "stream",
          "name": "stdout",
          "text": [
            "Trianto Haryo Nugroho\n",
            "21\n",
            "175.5\n"
          ]
        }
      ]
    },
    {
      "cell_type": "code",
      "source": [
        "# Print the data on by one using this format\n",
        "\n",
        "print('My name:',name)\n",
        "print('My age:',age)\n",
        "print('My height:',height)"
      ],
      "metadata": {
        "colab": {
          "base_uri": "https://localhost:8080/"
        },
        "id": "_b90Lg30evm-",
        "outputId": "9eb51c47-60bf-4ac7-c347-2be4a992cc83"
      },
      "execution_count": 60,
      "outputs": [
        {
          "output_type": "stream",
          "name": "stdout",
          "text": [
            "My name: Trianto Haryo Nugroho\n",
            "My age: 21\n",
            "My height: 175.5\n"
          ]
        }
      ]
    },
    {
      "cell_type": "code",
      "source": [
        "# Print all of the data extends to the right with this format\n",
        "\n",
        "print('My name is',name,', I am',age,'years old',', and my height is',height,'cm')"
      ],
      "metadata": {
        "colab": {
          "base_uri": "https://localhost:8080/"
        },
        "id": "1rs2A8eSe8yG",
        "outputId": "ad558449-54e2-4715-a540-5a66ae222da4"
      },
      "execution_count": 71,
      "outputs": [
        {
          "output_type": "stream",
          "name": "stdout",
          "text": [
            "My name is Trianto Haryo Nugroho , I am 21 years old , and my height is 175.5 cm\n"
          ]
        }
      ]
    },
    {
      "cell_type": "code",
      "source": [
        "# Print the data down using this format\n",
        "\n",
        "print('My name is',name,'\\nMy age is',age,'\\nMy height is',height)\n"
      ],
      "metadata": {
        "colab": {
          "base_uri": "https://localhost:8080/"
        },
        "id": "WmBoQ0kBbLmW",
        "outputId": "41806b86-6246-4989-acde-a709d594c722"
      },
      "execution_count": 64,
      "outputs": [
        {
          "output_type": "stream",
          "name": "stdout",
          "text": [
            "My name is Trianto Haryo Nugroho \n",
            "My age is 21 \n",
            "My height is 175.5\n"
          ]
        }
      ]
    },
    {
      "cell_type": "code",
      "source": [
        "# print the data down with this format\n",
        "\n",
        "print('My name is {}'.format(name))\n",
        "print('I was {} years old'.format(age))\n",
        "print('My height is {} cm'.format(height))"
      ],
      "metadata": {
        "colab": {
          "base_uri": "https://localhost:8080/"
        },
        "id": "-BG49UrXqCdF",
        "outputId": "96228c7f-9045-44db-9e41-268cd29ab0ba"
      },
      "execution_count": 95,
      "outputs": [
        {
          "output_type": "stream",
          "name": "stdout",
          "text": [
            "My name is Trianto Haryo Nugroho\n",
            "I was 21 years old\n",
            "My height is 175.5 cm\n"
          ]
        }
      ]
    },
    {
      "cell_type": "code",
      "source": [
        "# print the data extends to the right with this format\n",
        "\n",
        "print('My name is {}'.format(name),', I was {} years old'.format(age),'and my height is {} cm'.format(height))"
      ],
      "metadata": {
        "colab": {
          "base_uri": "https://localhost:8080/"
        },
        "id": "H3rFh4DtqSpx",
        "outputId": "7c19703c-c781-48d2-c5cd-ee65e48c757a"
      },
      "execution_count": 97,
      "outputs": [
        {
          "output_type": "stream",
          "name": "stdout",
          "text": [
            "My name is Trianto Haryo Nugroho , I was 21 years old and my height is 175.5 cm\n"
          ]
        }
      ]
    },
    {
      "cell_type": "code",
      "source": [
        "# Print all of the data extends to the right with this format\n",
        "\n",
        "print('My name is %s, my age is %d years old, and my height is %.1f cm' % (name,age,height))\n",
        "\n"
      ],
      "metadata": {
        "colab": {
          "base_uri": "https://localhost:8080/"
        },
        "id": "8G0YP9yzgNYd",
        "outputId": "4384f47d-e528-475c-b9e2-65e2a6dd67e5"
      },
      "execution_count": 85,
      "outputs": [
        {
          "output_type": "stream",
          "name": "stdout",
          "text": [
            "My name is Trianto Haryo Nugroho, my age is 21 years old, and my height is 175.5 cm\n"
          ]
        }
      ]
    },
    {
      "cell_type": "code",
      "source": [
        "# print all of the data down with \\n with this format\n",
        "\n",
        "print('My name is %s \\nMy age is %d years old \\nMy height is %.1f cm' % (name,age,height))"
      ],
      "metadata": {
        "colab": {
          "base_uri": "https://localhost:8080/"
        },
        "id": "rPCWBYaRgvJ9",
        "outputId": "8cc3447c-1142-43e2-e0a7-b8d11b0b825d"
      },
      "execution_count": 86,
      "outputs": [
        {
          "output_type": "stream",
          "name": "stdout",
          "text": [
            "My name is Trianto Haryo Nugroho \n",
            "My age is 21 years old \n",
            "My height is 175.5 cm\n"
          ]
        }
      ]
    },
    {
      "cell_type": "code",
      "source": [
        "# Store the data one by one using input() with this format\n",
        "\n",
        "name = input('My name: ')\n",
        "age = input('My age: ')\n",
        "height = input('My height: ')"
      ],
      "metadata": {
        "colab": {
          "base_uri": "https://localhost:8080/"
        },
        "id": "tBRBhw9CheBH",
        "outputId": "a425ac72-33d7-4ad1-8195-f9c326f6b7c8"
      },
      "execution_count": 87,
      "outputs": [
        {
          "name": "stdout",
          "output_type": "stream",
          "text": [
            "My name: Trianto Haryo Nugroho\n",
            "My age: 21\n",
            "My height: 175.5\n"
          ]
        }
      ]
    },
    {
      "cell_type": "code",
      "source": [
        "# print all of the data directly extends to the right with this format\n",
        "\n",
        "print('My name is',input('My name: '),',my age is',input('My age: '),'years old', ', and my height is',input('My height: '),'cm')"
      ],
      "metadata": {
        "colab": {
          "base_uri": "https://localhost:8080/"
        },
        "id": "Eb5BpXSim9WN",
        "outputId": "b96f294e-0b07-4a0e-bb33-e3156a2c44cb"
      },
      "execution_count": 92,
      "outputs": [
        {
          "output_type": "stream",
          "name": "stdout",
          "text": [
            "My name: Trianto Haryo Nugroho\n",
            "My age: 21\n",
            "My height: 175.5\n",
            "My name is Trianto Haryo Nugroho ,my age is 21 years old , and my height is 175.5 cm\n"
          ]
        }
      ]
    },
    {
      "cell_type": "code",
      "source": [
        "# print all of the data directly down with this format\n",
        "\n",
        "print('\\nMy name is',input('My name: '),'\\nMy age is',input('My age: '),'years old', '\\nMy height is',input('My height: '),'cm')"
      ],
      "metadata": {
        "colab": {
          "base_uri": "https://localhost:8080/"
        },
        "id": "Gg3JtTr4oLnV",
        "outputId": "bb036708-c236-46ce-cb11-267584567b9f"
      },
      "execution_count": 94,
      "outputs": [
        {
          "output_type": "stream",
          "name": "stdout",
          "text": [
            "My name: Trianto Haryo Nugroho\n",
            "My age: 21\n",
            "My height: 175.5\n",
            "\n",
            "My name is Trianto Haryo Nugroho \n",
            "My age is 21 years old \n",
            "My height is 175.5 cm\n"
          ]
        }
      ]
    }
  ],
  "metadata": {
    "colab": {
      "name": "Input and Output.ipynb",
      "provenance": [],
      "collapsed_sections": []
    },
    "kernelspec": {
      "display_name": "Python 3",
      "name": "python3"
    },
    "language_info": {
      "name": "python"
    }
  },
  "nbformat": 4,
  "nbformat_minor": 0
}